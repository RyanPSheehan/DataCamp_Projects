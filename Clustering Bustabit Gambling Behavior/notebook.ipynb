{
 "cells": [
  {
   "cell_type": "markdown",
   "metadata": {
    "dc": {
     "key": "4"
    },
    "deletable": false,
    "editable": false,
    "run_control": {
     "frozen": true
    },
    "tags": [
     "context"
    ]
   },
   "source": [
    "## 1. A preliminary look at the Bustabit data\n",
    "<p>The similarities and differences in the behaviors of different people have long been of interest, particularly in psychology and other social science fields. Understanding human behavior in particular contexts can help us to make informed decisions. Consider a game of poker - understanding why players raise, call, and fold in various situations can provide a distinct advantage competitively.</p>\n",
    "<p>Along these lines, we are going to focus on the behavior on <strong>online gamblers</strong> from a platform called <a href=\"https://www.bustabit.com\" target=\"_blank\">Bustabit</a>. There are a few basic rules for playing a game of Bustabit:</p>\n",
    "<ol>\n",
    "<li>You bet a certain amount of money (in Bits, which is 1 / 1,000,000th of a Bitcoin) and you win if you cash out before the game <strong>busts</strong>.</li>\n",
    "<li>Your win is calculated by the multiplier value at the moment you cashed out. For example, if you bet 100 and the value was 2.50x at the time you cashed out, you win 250. In addition, a percentage <code>Bonus</code> per game is multiplied with your bet and summed to give your final <code>Profit</code> in a winning game. Assuming a <code>Bonus</code> of 1%, your <code>Profit</code> for this round would be <code>(100 x 2.5) + (100 x .01) - 100 = 151</code></li>\n",
    "<li>The multiplier increases as time goes on, but if you wait too long to cash out, you may bust and lose your money.</li>\n",
    "<li>Lastly, the house maintains slight advantages because in 1 out of every 100 games, everyone playing busts.</li>\n",
    "</ol>\n",
    "<p>Below we see an example of a winning game:</p>\n",
    "<p><img src=\"https://assets.datacamp.com/production/project_643/img/bustabit_win.gif\" alt></p>\n",
    "<p>And a losing game, for comparison:</p>\n",
    "<p><img src=\"https://assets.datacamp.com/production/project_643/img/bustabit_loss.gif\" alt></p>\n",
    "<p>Our goal will be to define relevant <strong>groups</strong> or <strong>clusters</strong> of Bustabit users to identify what patterns and behaviors of gambling persist. Can we describe a particular group as risk-averse? Is there a set of gamblers that have a strategy that seems to be more successful in the long term?</p>\n",
    "<p>The data you will be working with includes over 40000 games of Bustabit by a bit over 4000 different players, for a total of 50000 rows (one game played by one player). The data includes the following variables:</p>\n",
    "<ol>\n",
    "<li><strong>Id</strong> - Unique identifier for a particular row (game result for one player)</li>\n",
    "<li><strong>GameID</strong> - Unique identifier for a particular game</li>\n",
    "<li><strong>Username</strong> - Unique identifier for a particular player</li>\n",
    "<li><strong>Bet</strong> - The number of Bits (1 / 1,000,000th of a Bitcoin) bet by the player in this game</li>\n",
    "<li><strong>CashedOut</strong> - The multiplier at which this particular player cashed out</li>\n",
    "<li><strong>Bonus</strong> - The bonus award (in percent) awarded to this player for the game</li>\n",
    "<li><strong>Profit</strong> - The amount this player won in the game, calculated as (Bet * CashedOut) + (Bet * Bonus) - Bet</li>\n",
    "<li><strong>BustedAt</strong> - The multiplier value at which this game busted</li>\n",
    "<li><strong>PlayDate</strong> - The date and time at which this game took place</li>\n",
    "</ol>\n",
    "<p>Let's begin by doing an exploratory dive into the Bustabit data!</p>"
   ]
  },
  {
   "cell_type": "code",
   "execution_count": 1,
   "metadata": {
    "dc": {
     "key": "4"
    },
    "tags": [
     "sample_code"
    ]
   },
   "outputs": [
    {
     "name": "stderr",
     "output_type": "stream",
     "text": [
      "Registered S3 methods overwritten by 'ggplot2':\n",
      "  method         from \n",
      "  [.quosures     rlang\n",
      "  c.quosures     rlang\n",
      "  print.quosures rlang\n",
      "Registered S3 method overwritten by 'rvest':\n",
      "  method            from\n",
      "  read_xml.response xml2\n",
      "── Attaching packages ─────────────────────────────────────── tidyverse 1.2.1 ──\n",
      "✔ ggplot2 3.1.1       ✔ purrr   0.3.2  \n",
      "✔ tibble  2.1.1       ✔ dplyr   0.8.0.1\n",
      "✔ tidyr   0.8.3       ✔ stringr 1.4.0  \n",
      "✔ readr   1.3.1       ✔ forcats 0.4.0  \n",
      "── Conflicts ────────────────────────────────────────── tidyverse_conflicts() ──\n",
      "✖ dplyr::filter() masks stats::filter()\n",
      "✖ dplyr::lag()    masks stats::lag()\n",
      "Parsed with column specification:\n",
      "cols(\n",
      "  Id = col_double(),\n",
      "  GameID = col_double(),\n",
      "  Username = col_character(),\n",
      "  Bet = col_double(),\n",
      "  CashedOut = col_double(),\n",
      "  Bonus = col_double(),\n",
      "  Profit = col_double(),\n",
      "  BustedAt = col_double(),\n",
      "  PlayDate = col_datetime(format = \"\")\n",
      ")\n"
     ]
    },
    {
     "data": {
      "text/html": [
       "<table>\n",
       "<thead><tr><th scope=col>Id</th><th scope=col>GameID</th><th scope=col>Username</th><th scope=col>Bet</th><th scope=col>CashedOut</th><th scope=col>Bonus</th><th scope=col>Profit</th><th scope=col>BustedAt</th><th scope=col>PlayDate</th></tr></thead>\n",
       "<tbody>\n",
       "\t<tr><td>14196549           </td><td>3366002            </td><td>papai              </td><td> 5                 </td><td>1.20               </td><td>0.0                </td><td> 1.00              </td><td>8.24               </td><td>2016-11-20 19:44:19</td></tr>\n",
       "\t<tr><td>10676217           </td><td>3343882            </td><td>znay22             </td><td> 3                 </td><td>  NA               </td><td> NA                </td><td>   NA              </td><td>1.40               </td><td>2016-11-14 14:21:50</td></tr>\n",
       "\t<tr><td>15577107           </td><td>3374646            </td><td>rrrrrrrr           </td><td> 4                 </td><td>1.33               </td><td>3.0                </td><td> 1.44              </td><td>3.15               </td><td>2016-11-23 06:39:15</td></tr>\n",
       "\t<tr><td>25732127           </td><td>3429241            </td><td>sanya1206          </td><td>10                 </td><td>  NA               </td><td> NA                </td><td>   NA              </td><td>1.63               </td><td>2016-12-08 18:13:55</td></tr>\n",
       "\t<tr><td>17995432           </td><td>3389174            </td><td>ADM                </td><td>50                 </td><td>1.50               </td><td>1.4                </td><td>25.70              </td><td>2.29               </td><td>2016-11-27 08:14:48</td></tr>\n",
       "\t<tr><td>14147823           </td><td>3365723            </td><td>afrod              </td><td> 2                 </td><td>  NA               </td><td> NA                </td><td>   NA              </td><td>1.04               </td><td>2016-11-20 17:50:55</td></tr>\n",
       "</tbody>\n",
       "</table>\n"
      ],
      "text/latex": [
       "\\begin{tabular}{r|lllllllll}\n",
       " Id & GameID & Username & Bet & CashedOut & Bonus & Profit & BustedAt & PlayDate\\\\\n",
       "\\hline\n",
       "\t 14196549            & 3366002             & papai               &  5                  & 1.20                & 0.0                 &  1.00               & 8.24                & 2016-11-20 19:44:19\\\\\n",
       "\t 10676217            & 3343882             & znay22              &  3                  &   NA                &  NA                 &    NA               & 1.40                & 2016-11-14 14:21:50\\\\\n",
       "\t 15577107            & 3374646             & rrrrrrrr            &  4                  & 1.33                & 3.0                 &  1.44               & 3.15                & 2016-11-23 06:39:15\\\\\n",
       "\t 25732127            & 3429241             & sanya1206           & 10                  &   NA                &  NA                 &    NA               & 1.63                & 2016-12-08 18:13:55\\\\\n",
       "\t 17995432            & 3389174             & ADM                 & 50                  & 1.50                & 1.4                 & 25.70               & 2.29                & 2016-11-27 08:14:48\\\\\n",
       "\t 14147823            & 3365723             & afrod               &  2                  &   NA                &  NA                 &    NA               & 1.04                & 2016-11-20 17:50:55\\\\\n",
       "\\end{tabular}\n"
      ],
      "text/markdown": [
       "\n",
       "| Id | GameID | Username | Bet | CashedOut | Bonus | Profit | BustedAt | PlayDate |\n",
       "|---|---|---|---|---|---|---|---|---|\n",
       "| 14196549            | 3366002             | papai               |  5                  | 1.20                | 0.0                 |  1.00               | 8.24                | 2016-11-20 19:44:19 |\n",
       "| 10676217            | 3343882             | znay22              |  3                  |   NA                |  NA                 |    NA               | 1.40                | 2016-11-14 14:21:50 |\n",
       "| 15577107            | 3374646             | rrrrrrrr            |  4                  | 1.33                | 3.0                 |  1.44               | 3.15                | 2016-11-23 06:39:15 |\n",
       "| 25732127            | 3429241             | sanya1206           | 10                  |   NA                |  NA                 |    NA               | 1.63                | 2016-12-08 18:13:55 |\n",
       "| 17995432            | 3389174             | ADM                 | 50                  | 1.50                | 1.4                 | 25.70               | 2.29                | 2016-11-27 08:14:48 |\n",
       "| 14147823            | 3365723             | afrod               |  2                  |   NA                |  NA                 |    NA               | 1.04                | 2016-11-20 17:50:55 |\n",
       "\n"
      ],
      "text/plain": [
       "  Id       GameID  Username  Bet CashedOut Bonus Profit BustedAt\n",
       "1 14196549 3366002 papai      5  1.20      0.0    1.00  8.24    \n",
       "2 10676217 3343882 znay22     3    NA       NA      NA  1.40    \n",
       "3 15577107 3374646 rrrrrrrr   4  1.33      3.0    1.44  3.15    \n",
       "4 25732127 3429241 sanya1206 10    NA       NA      NA  1.63    \n",
       "5 17995432 3389174 ADM       50  1.50      1.4   25.70  2.29    \n",
       "6 14147823 3365723 afrod      2    NA       NA      NA  1.04    \n",
       "  PlayDate           \n",
       "1 2016-11-20 19:44:19\n",
       "2 2016-11-14 14:21:50\n",
       "3 2016-11-23 06:39:15\n",
       "4 2016-12-08 18:13:55\n",
       "5 2016-11-27 08:14:48\n",
       "6 2016-11-20 17:50:55"
      ]
     },
     "metadata": {},
     "output_type": "display_data"
    },
    {
     "data": {
      "text/html": [
       "<table>\n",
       "<thead><tr><th scope=col>Id</th><th scope=col>GameID</th><th scope=col>Username</th><th scope=col>Bet</th><th scope=col>CashedOut</th><th scope=col>Bonus</th><th scope=col>Profit</th><th scope=col>BustedAt</th><th scope=col>PlayDate</th></tr></thead>\n",
       "<tbody>\n",
       "\t<tr><td>16073138           </td><td>3377519            </td><td>standy89           </td><td>27                 </td><td>126                </td><td>3.48               </td><td>3375.94            </td><td>261.08             </td><td>2016-11-24 02:17:03</td></tr>\n",
       "</tbody>\n",
       "</table>\n"
      ],
      "text/latex": [
       "\\begin{tabular}{r|lllllllll}\n",
       " Id & GameID & Username & Bet & CashedOut & Bonus & Profit & BustedAt & PlayDate\\\\\n",
       "\\hline\n",
       "\t 16073138            & 3377519             & standy89            & 27                  & 126                 & 3.48                & 3375.94             & 261.08              & 2016-11-24 02:17:03\\\\\n",
       "\\end{tabular}\n"
      ],
      "text/markdown": [
       "\n",
       "| Id | GameID | Username | Bet | CashedOut | Bonus | Profit | BustedAt | PlayDate |\n",
       "|---|---|---|---|---|---|---|---|---|\n",
       "| 16073138            | 3377519             | standy89            | 27                  | 126                 | 3.48                | 3375.94             | 261.08              | 2016-11-24 02:17:03 |\n",
       "\n"
      ],
      "text/plain": [
       "  Id       GameID  Username Bet CashedOut Bonus Profit  BustedAt\n",
       "1 16073138 3377519 standy89 27  126       3.48  3375.94 261.08  \n",
       "  PlayDate           \n",
       "1 2016-11-24 02:17:03"
      ]
     },
     "metadata": {},
     "output_type": "display_data"
    }
   ],
   "source": [
    "library(tidyverse)\n",
    "\n",
    "# Read in the bustabit gambling data \n",
    "bustabit <- read_csv(\"datasets/bustabit.csv\")\n",
    "\n",
    "head(bustabit)\n",
    "\n",
    "# Find the highest multiplier (BustedAt value) achieved in a game\n",
    "bustabit %>%\n",
    "    arrange(desc(CashedOut)) %>%\n",
    "    slice(1)"
   ]
  },
  {
   "cell_type": "markdown",
   "metadata": {
    "dc": {
     "key": "11"
    },
    "deletable": false,
    "editable": false,
    "run_control": {
     "frozen": true
    },
    "tags": [
     "context"
    ]
   },
   "source": [
    "## 2. Deriving relevant features for clustering\n",
    "<p>The Bustabit data provides us with many features to work with, but to better quantify player behavior, we need to derive some more variables. Currently, we have a <code>Profit</code> column which tells us the amount won in that game, but no indication of how much was lost if the player busted, and no indicator variable quantifying whether the game itself was a win or loss overall. Hence, we will derive or modify the following variables:</p>\n",
    "<ol>\n",
    "<li><strong>CashedOut</strong> - If the value for <code>CashedOut</code> is <code>NA</code>, we will set it to be 0.01 greater than the <code>BustedAt</code> value to signify that the user failed to cash out before busting</li>\n",
    "<li><strong>Profit</strong> - If the value for <code>Profit</code> is <code>NA</code>, we will set it to be zero to indicate no profit for the player in that game</li>\n",
    "<li><strong>Losses</strong> - If the new value for <code>Profit</code> is zero, we will set this to be the amount the player lost in that game, otherwise we will set it to zero. This value should always be <em>zero or negative</em></li>\n",
    "<li><strong>GameWon</strong> - If the user made a profit in this game, the value should be 1, and 0 otherwise</li>\n",
    "<li><strong>GameLost</strong> If the user had a loss in this game, the value should be 1, and 0 otherwise</li>\n",
    "</ol>"
   ]
  },
  {
   "cell_type": "code",
   "execution_count": 2,
   "metadata": {
    "dc": {
     "key": "11"
    },
    "tags": [
     "sample_code"
    ]
   },
   "outputs": [
    {
     "data": {
      "text/html": [
       "<table>\n",
       "<thead><tr><th scope=col>Id</th><th scope=col>GameID</th><th scope=col>Username</th><th scope=col>Bet</th><th scope=col>CashedOut</th><th scope=col>Bonus</th><th scope=col>Profit</th><th scope=col>BustedAt</th><th scope=col>PlayDate</th><th scope=col>Losses</th><th scope=col>GameWon</th><th scope=col>GameLost</th></tr></thead>\n",
       "<tbody>\n",
       "\t<tr><td>14196549           </td><td>3366002            </td><td>papai              </td><td> 5                 </td><td>1.20               </td><td>0.0                </td><td> 1.00              </td><td>8.24               </td><td>2016-11-20 19:44:19</td><td>  0                </td><td>1                  </td><td>0                  </td></tr>\n",
       "\t<tr><td>10676217           </td><td>3343882            </td><td>znay22             </td><td> 3                 </td><td>1.41               </td><td> NA                </td><td> 0.00              </td><td>1.40               </td><td>2016-11-14 14:21:50</td><td> -3                </td><td>0                  </td><td>1                  </td></tr>\n",
       "\t<tr><td>15577107           </td><td>3374646            </td><td>rrrrrrrr           </td><td> 4                 </td><td>1.33               </td><td>3.0                </td><td> 1.44              </td><td>3.15               </td><td>2016-11-23 06:39:15</td><td>  0                </td><td>1                  </td><td>0                  </td></tr>\n",
       "\t<tr><td>25732127           </td><td>3429241            </td><td>sanya1206          </td><td>10                 </td><td>1.64               </td><td> NA                </td><td> 0.00              </td><td>1.63               </td><td>2016-12-08 18:13:55</td><td>-10                </td><td>0                  </td><td>1                  </td></tr>\n",
       "\t<tr><td>17995432           </td><td>3389174            </td><td>ADM                </td><td>50                 </td><td>1.50               </td><td>1.4                </td><td>25.70              </td><td>2.29               </td><td>2016-11-27 08:14:48</td><td>  0                </td><td>1                  </td><td>0                  </td></tr>\n",
       "</tbody>\n",
       "</table>\n"
      ],
      "text/latex": [
       "\\begin{tabular}{r|llllllllllll}\n",
       " Id & GameID & Username & Bet & CashedOut & Bonus & Profit & BustedAt & PlayDate & Losses & GameWon & GameLost\\\\\n",
       "\\hline\n",
       "\t 14196549            & 3366002             & papai               &  5                  & 1.20                & 0.0                 &  1.00               & 8.24                & 2016-11-20 19:44:19 &   0                 & 1                   & 0                  \\\\\n",
       "\t 10676217            & 3343882             & znay22              &  3                  & 1.41                &  NA                 &  0.00               & 1.40                & 2016-11-14 14:21:50 &  -3                 & 0                   & 1                  \\\\\n",
       "\t 15577107            & 3374646             & rrrrrrrr            &  4                  & 1.33                & 3.0                 &  1.44               & 3.15                & 2016-11-23 06:39:15 &   0                 & 1                   & 0                  \\\\\n",
       "\t 25732127            & 3429241             & sanya1206           & 10                  & 1.64                &  NA                 &  0.00               & 1.63                & 2016-12-08 18:13:55 & -10                 & 0                   & 1                  \\\\\n",
       "\t 17995432            & 3389174             & ADM                 & 50                  & 1.50                & 1.4                 & 25.70               & 2.29                & 2016-11-27 08:14:48 &   0                 & 1                   & 0                  \\\\\n",
       "\\end{tabular}\n"
      ],
      "text/markdown": [
       "\n",
       "| Id | GameID | Username | Bet | CashedOut | Bonus | Profit | BustedAt | PlayDate | Losses | GameWon | GameLost |\n",
       "|---|---|---|---|---|---|---|---|---|---|---|---|\n",
       "| 14196549            | 3366002             | papai               |  5                  | 1.20                | 0.0                 |  1.00               | 8.24                | 2016-11-20 19:44:19 |   0                 | 1                   | 0                   |\n",
       "| 10676217            | 3343882             | znay22              |  3                  | 1.41                |  NA                 |  0.00               | 1.40                | 2016-11-14 14:21:50 |  -3                 | 0                   | 1                   |\n",
       "| 15577107            | 3374646             | rrrrrrrr            |  4                  | 1.33                | 3.0                 |  1.44               | 3.15                | 2016-11-23 06:39:15 |   0                 | 1                   | 0                   |\n",
       "| 25732127            | 3429241             | sanya1206           | 10                  | 1.64                |  NA                 |  0.00               | 1.63                | 2016-12-08 18:13:55 | -10                 | 0                   | 1                   |\n",
       "| 17995432            | 3389174             | ADM                 | 50                  | 1.50                | 1.4                 | 25.70               | 2.29                | 2016-11-27 08:14:48 |   0                 | 1                   | 0                   |\n",
       "\n"
      ],
      "text/plain": [
       "  Id       GameID  Username  Bet CashedOut Bonus Profit BustedAt\n",
       "1 14196549 3366002 papai      5  1.20      0.0    1.00  8.24    \n",
       "2 10676217 3343882 znay22     3  1.41       NA    0.00  1.40    \n",
       "3 15577107 3374646 rrrrrrrr   4  1.33      3.0    1.44  3.15    \n",
       "4 25732127 3429241 sanya1206 10  1.64       NA    0.00  1.63    \n",
       "5 17995432 3389174 ADM       50  1.50      1.4   25.70  2.29    \n",
       "  PlayDate            Losses GameWon GameLost\n",
       "1 2016-11-20 19:44:19   0    1       0       \n",
       "2 2016-11-14 14:21:50  -3    0       1       \n",
       "3 2016-11-23 06:39:15   0    1       0       \n",
       "4 2016-12-08 18:13:55 -10    0       1       \n",
       "5 2016-11-27 08:14:48   0    1       0       "
      ]
     },
     "metadata": {},
     "output_type": "display_data"
    }
   ],
   "source": [
    "# Create the new feature variables \n",
    "bustabit_features <- bustabit %>% \n",
    "  mutate(CashedOut = ifelse(is.na(CashedOut), BustedAt + .01, CashedOut),\n",
    "         Profit = ifelse(is.na(Profit), 0, Profit),\n",
    "         Losses = ifelse(Profit == 0, (0-Bet), 0),\n",
    "         GameWon = ifelse(Profit == 0, 0, 1),\n",
    "         GameLost = ifelse(Losses == 0, 0, 1))\n",
    "\n",
    "head(bustabit_features, n = 5)"
   ]
  },
  {
   "cell_type": "markdown",
   "metadata": {
    "dc": {
     "key": "18"
    },
    "deletable": false,
    "editable": false,
    "run_control": {
     "frozen": true
    },
    "tags": [
     "context"
    ]
   },
   "source": [
    "## 3. Creating per-player statistics\n",
    "<p>The primary task at hand is to cluster Bustabit <strong>players</strong> by their respective gambling habits. Right now, however, we have features at the per-game level. The features we've derived would be great if we were interested in clustering properties of the games themselves - we know things about the BustedAt multiplier, the time the game took place, and lots more. But to better quantify player behavior, we must group the data by player (<code>Username</code>) to begin thinking about the relationship and similarity between groups of players. Some per-player features we will create are:</p>\n",
    "<ol>\n",
    "<li><strong>AverageCashedOut</strong> - The average multiplier at which the player cashes out</li>\n",
    "<li><strong>AverageBet</strong> - The average bet made by the player</li>\n",
    "<li><strong>TotalProfit</strong> - The total profits over time for the player</li>\n",
    "<li><strong>TotalLosses</strong> - The total losses over time for the player</li>\n",
    "<li><strong>GamesWon</strong> - The total number of individual games the player won</li>\n",
    "<li><strong>GamesLost</strong> - The total number of individual games the player lost</li>\n",
    "</ol>\n",
    "<p>With these variables, we will be able to potentially group similar users based on their typical Bustabit gambling behavior.</p>"
   ]
  },
  {
   "cell_type": "code",
   "execution_count": 3,
   "metadata": {
    "dc": {
     "key": "18"
    },
    "tags": [
     "sample_code"
    ]
   },
   "outputs": [
    {
     "data": {
      "text/html": [
       "<table>\n",
       "<thead><tr><th scope=col>Username</th><th scope=col>AverageCashedOut</th><th scope=col>AverageBet</th><th scope=col>TotalProfit</th><th scope=col>TotalLosses</th><th scope=col>GamesWon</th><th scope=col>GamesLost</th></tr></thead>\n",
       "<tbody>\n",
       "\t<tr><td>----------------</td><td>1.040000        </td><td>   10.333333    </td><td>     0.70       </td><td>     -8         </td><td> 2              </td><td> 1              </td></tr>\n",
       "\t<tr><td>--dilib--       </td><td>1.505000        </td><td>  210.750000    </td><td>   371.37       </td><td>  -1239         </td><td> 2              </td><td> 6              </td></tr>\n",
       "\t<tr><td>-31337-         </td><td>1.220000        </td><td>   32.500000    </td><td>    21.50       </td><td>    -55         </td><td> 3              </td><td> 1              </td></tr>\n",
       "\t<tr><td>-Nothing-       </td><td>1.417077        </td><td>  322.876923    </td><td>  3794.31       </td><td>  -6915         </td><td>42              </td><td>23              </td></tr>\n",
       "\t<tr><td>-Tachyon        </td><td>1.246000        </td><td> 1024.800000    </td><td>   629.68       </td><td>  -2124         </td><td> 4              </td><td> 1              </td></tr>\n",
       "\t<tr><td>-Y-             </td><td>1.200000        </td><td>   16.000000    </td><td>     0.00       </td><td>    -32         </td><td> 0              </td><td> 2              </td></tr>\n",
       "\t<tr><td>-ZYBERPH-       </td><td>1.220000        </td><td> 1000.000000    </td><td>   220.00       </td><td>      0         </td><td> 1              </td><td> 0              </td></tr>\n",
       "\t<tr><td>-_-TUYUL-_-     </td><td>2.654000        </td><td>   30.400000    </td><td>    48.37       </td><td>   -140         </td><td> 1              </td><td> 4              </td></tr>\n",
       "\t<tr><td>-__---          </td><td>1.334167        </td><td>21775.708333    </td><td>183322.25       </td><td>-116046         </td><td>19              </td><td> 5              </td></tr>\n",
       "\t<tr><td>-i_             </td><td>1.140000        </td><td>    3.000000    </td><td>     0.96       </td><td>      0         </td><td> 2              </td><td> 0              </td></tr>\n",
       "\t<tr><td>-mdK            </td><td>1.380000        </td><td> 5000.000000    </td><td>  1986.83       </td><td>      0         </td><td> 1              </td><td> 0              </td></tr>\n",
       "\t<tr><td>-t-             </td><td>2.287778        </td><td>  211.851852    </td><td>  5835.45       </td><td>  -1835         </td><td>10              </td><td>17              </td></tr>\n",
       "\t<tr><td>-tuyul-         </td><td>2.396957        </td><td>   23.000000    </td><td>   148.97       </td><td>   -464         </td><td> 7              </td><td>16              </td></tr>\n",
       "\t<tr><td>-xAx-           </td><td>2.407143        </td><td>   13.142857    </td><td>    55.43       </td><td>    -54         </td><td> 4              </td><td> 3              </td></tr>\n",
       "\t<tr><td>0-----_-----0   </td><td>1.170000        </td><td> 2250.000000    </td><td>  2341.14       </td><td>   -700         </td><td> 2              </td><td> 2              </td></tr>\n",
       "\t<tr><td>010101          </td><td>1.520000        </td><td>20153.666667    </td><td>  1025.00       </td><td> -59361         </td><td> 2              </td><td> 1              </td></tr>\n",
       "\t<tr><td>01010100b       </td><td>1.421364        </td><td>    9.022727    </td><td>   144.96       </td><td>   -123         </td><td>30              </td><td>14              </td></tr>\n",
       "\t<tr><td>015ka           </td><td>2.790000        </td><td>  266.666667    </td><td>   268.34       </td><td>  -1000         </td><td> 2              </td><td> 4              </td></tr>\n",
       "\t<tr><td>01Nov           </td><td>2.000000        </td><td>  220.000000    </td><td>     0.00       </td><td>   -220         </td><td> 0              </td><td> 1              </td></tr>\n",
       "\t<tr><td>03K75           </td><td>1.350000        </td><td> 1166.666667    </td><td>  1411.84       </td><td>      0         </td><td> 3              </td><td> 0              </td></tr>\n",
       "\t<tr><td>0on97           </td><td>1.724444        </td><td> 4888.888889    </td><td>  6868.56       </td><td> -25000         </td><td> 4              </td><td> 5              </td></tr>\n",
       "\t<tr><td>0x0             </td><td>0.932500        </td><td>  100.750000    </td><td>     0.37       </td><td>   -402         </td><td> 1              </td><td> 3              </td></tr>\n",
       "\t<tr><td>0x22B           </td><td>1.210000        </td><td>  250.000000    </td><td>     0.00       </td><td>   -250         </td><td> 0              </td><td> 1              </td></tr>\n",
       "\t<tr><td>1000yen         </td><td>0.996000        </td><td>    2.800000    </td><td>     1.19       </td><td>     -7         </td><td> 7              </td><td> 3              </td></tr>\n",
       "\t<tr><td>1017738         </td><td>4.383333        </td><td> 3010.666667    </td><td>  1020.60       </td><td>      0         </td><td> 3              </td><td> 0              </td></tr>\n",
       "\t<tr><td>1017FickSquad   </td><td>1.593333        </td><td>  130.000000    </td><td>    72.12       </td><td>   -300         </td><td> 2              </td><td> 1              </td></tr>\n",
       "\t<tr><td>10__________10  </td><td>1.200000        </td><td>  600.000000    </td><td>     0.00       </td><td>   -600         </td><td> 0              </td><td> 1              </td></tr>\n",
       "\t<tr><td>11-1            </td><td>2.655000        </td><td>   11.500000    </td><td>    13.68       </td><td>      0         </td><td> 2              </td><td> 0              </td></tr>\n",
       "\t<tr><td>1213141516171819</td><td>2.905000        </td><td>    5.500000    </td><td>     0.00       </td><td>    -11         </td><td> 0              </td><td> 2              </td></tr>\n",
       "\t<tr><td>1225            </td><td>1.471679        </td><td> 1064.021898    </td><td> 28068.62       </td><td> -32495         </td><td>84              </td><td>53              </td></tr>\n",
       "\t<tr><td>...</td><td>...</td><td>...</td><td>...</td><td>...</td><td>...</td><td>...</td></tr>\n",
       "\t<tr><td>zaim        </td><td>1.434118    </td><td> 406.470588 </td><td>  1836.83   </td><td> -3800      </td><td> 12         </td><td> 5          </td></tr>\n",
       "\t<tr><td>zakbrin     </td><td>1.832500    </td><td> 125.000000 </td><td>   406.20   </td><td>  -100      </td><td>  3         </td><td> 1          </td></tr>\n",
       "\t<tr><td>zanesuper20 </td><td>1.200000    </td><td> 325.000000 </td><td>   147.71   </td><td>     0      </td><td>  2         </td><td> 0          </td></tr>\n",
       "\t<tr><td>zayn        </td><td>1.631333    </td><td>   4.666667 </td><td>    78.32   </td><td>   -33      </td><td>  3         </td><td>12          </td></tr>\n",
       "\t<tr><td>zayzay293   </td><td>1.020000    </td><td>2500.000000 </td><td>   119.49   </td><td>     0      </td><td>  1         </td><td> 0          </td></tr>\n",
       "\t<tr><td>zebra       </td><td>1.100000    </td><td>1000.000000 </td><td>   100.00   </td><td>     0      </td><td>  1         </td><td> 0          </td></tr>\n",
       "\t<tr><td>zelord      </td><td>1.110000    </td><td>   5.666667 </td><td>     2.81   </td><td>     0      </td><td>  3         </td><td> 0          </td></tr>\n",
       "\t<tr><td>zenonkrivic </td><td>1.137500    </td><td>   2.375000 </td><td>     3.02   </td><td>    -1      </td><td>  7         </td><td> 1          </td></tr>\n",
       "\t<tr><td>zeropawnjobs</td><td>1.323333    </td><td>   2.666667 </td><td>     1.10   </td><td>    -5      </td><td>  2         </td><td> 1          </td></tr>\n",
       "\t<tr><td>zheoleg     </td><td>1.125000    </td><td>  10.000000 </td><td>     1.00   </td><td>   -10      </td><td>  1         </td><td> 1          </td></tr>\n",
       "\t<tr><td>zhorapupikov</td><td>1.743649    </td><td>  25.027027 </td><td>   999.51   </td><td> -1014      </td><td> 36         </td><td>38          </td></tr>\n",
       "\t<tr><td>zhuzhik     </td><td>1.200000    </td><td>   2.000000 </td><td>     0.87   </td><td>     0      </td><td>  2         </td><td> 0          </td></tr>\n",
       "\t<tr><td>zigfrid     </td><td>1.880000    </td><td>  11.185185 </td><td>   160.13   </td><td>  -241      </td><td>  7         </td><td>20          </td></tr>\n",
       "\t<tr><td>zigzag32    </td><td>2.000000    </td><td>2000.000000 </td><td>  2000.00   </td><td>     0      </td><td>  1         </td><td> 0          </td></tr>\n",
       "\t<tr><td>zileanbro   </td><td>2.367500    </td><td>  27.500000 </td><td>   133.42   </td><td>   -41      </td><td>  3         </td><td> 1          </td></tr>\n",
       "\t<tr><td>ziriuz84    </td><td>1.110000    </td><td>   1.000000 </td><td>     0.23   </td><td>     0      </td><td>  2         </td><td> 0          </td></tr>\n",
       "\t<tr><td>zivone      </td><td>1.710000    </td><td>  10.000000 </td><td>     0.00   </td><td>   -10      </td><td>  0         </td><td> 1          </td></tr>\n",
       "\t<tr><td>zlatek      </td><td>1.100000    </td><td> 200.000000 </td><td>    22.42   </td><td>     0      </td><td>  1         </td><td> 0          </td></tr>\n",
       "\t<tr><td>zmarat      </td><td>1.197821    </td><td>  40.307692 </td><td>   445.02   </td><td>  -104      </td><td>122         </td><td>34          </td></tr>\n",
       "\t<tr><td>znay22      </td><td>1.409467    </td><td>  22.613333 </td><td>  1268.56   </td><td> -1533      </td><td> 90         </td><td>60          </td></tr>\n",
       "\t<tr><td>zoidberg128 </td><td>1.168182    </td><td>3870.727273 </td><td>  9028.64   </td><td> -2344      </td><td> 10         </td><td> 1          </td></tr>\n",
       "\t<tr><td>zonova31    </td><td>1.010000    </td><td>  50.000000 </td><td>     0.50   </td><td>     0      </td><td>  1         </td><td> 0          </td></tr>\n",
       "\t<tr><td>zontamp     </td><td>1.164286    </td><td>6540.000000 </td><td>  4914.43   </td><td>  -100      </td><td>  6         </td><td> 1          </td></tr>\n",
       "\t<tr><td>zoro1958    </td><td>1.500000    </td><td>  10.000000 </td><td>     5.00   </td><td>     0      </td><td>  1         </td><td> 0          </td></tr>\n",
       "\t<tr><td>zuit        </td><td>1.470000    </td><td> 500.000000 </td><td>   242.71   </td><td>     0      </td><td>  1         </td><td> 0          </td></tr>\n",
       "\t<tr><td>zuko        </td><td>1.640000    </td><td> 500.000000 </td><td>     0.00   </td><td>  -500      </td><td>  0         </td><td> 1          </td></tr>\n",
       "\t<tr><td>zum         </td><td>1.430000    </td><td> 101.500000 </td><td>   108.64   </td><td>     0      </td><td>  2         </td><td> 0          </td></tr>\n",
       "\t<tr><td>zviadits    </td><td>1.134528    </td><td>  25.509434 </td><td>   138.44   </td><td>  -399      </td><td> 47         </td><td> 6          </td></tr>\n",
       "\t<tr><td>zzanggu     </td><td>3.716774    </td><td>3902.161290 </td><td>  6952.96   </td><td>-90956      </td><td>  2         </td><td>29          </td></tr>\n",
       "\t<tr><td>zzanggubank </td><td>4.050000    </td><td>2106.444444 </td><td>153905.43   </td><td>-11364      </td><td>  1         </td><td> 8          </td></tr>\n",
       "</tbody>\n",
       "</table>\n"
      ],
      "text/latex": [
       "\\begin{tabular}{r|lllllll}\n",
       " Username & AverageCashedOut & AverageBet & TotalProfit & TotalLosses & GamesWon & GamesLost\\\\\n",
       "\\hline\n",
       "\t ---------------- & 1.040000         &    10.333333     &      0.70        &      -8          &  2               &  1              \\\\\n",
       "\t --dilib--        & 1.505000         &   210.750000     &    371.37        &   -1239          &  2               &  6              \\\\\n",
       "\t -31337-          & 1.220000         &    32.500000     &     21.50        &     -55          &  3               &  1              \\\\\n",
       "\t -Nothing-        & 1.417077         &   322.876923     &   3794.31        &   -6915          & 42               & 23              \\\\\n",
       "\t -Tachyon         & 1.246000         &  1024.800000     &    629.68        &   -2124          &  4               &  1              \\\\\n",
       "\t -Y-              & 1.200000         &    16.000000     &      0.00        &     -32          &  0               &  2              \\\\\n",
       "\t -ZYBERPH-        & 1.220000         &  1000.000000     &    220.00        &       0          &  1               &  0              \\\\\n",
       "\t -\\_-TUYUL-\\_-      & 2.654000             &    30.400000         &     48.37            &    -140              &  1                   &  4                  \\\\\n",
       "\t -\\_\\_---           & 1.334167             & 21775.708333         & 183322.25            & -116046              & 19                   &  5                  \\\\\n",
       "\t -i\\_              & 1.140000           &     3.000000       &      0.96          &       0            &  2                 &  0                \\\\\n",
       "\t -mdK             & 1.380000         &  5000.000000     &   1986.83        &       0          &  1               &  0              \\\\\n",
       "\t -t-              & 2.287778         &   211.851852     &   5835.45        &   -1835          & 10               & 17              \\\\\n",
       "\t -tuyul-          & 2.396957         &    23.000000     &    148.97        &    -464          &  7               & 16              \\\\\n",
       "\t -xAx-            & 2.407143         &    13.142857     &     55.43        &     -54          &  4               &  3              \\\\\n",
       "\t 0-----\\_-----0    & 1.170000           &  2250.000000       &   2341.14          &    -700            &  2                 &  2                \\\\\n",
       "\t 010101           & 1.520000         & 20153.666667     &   1025.00        &  -59361          &  2               &  1              \\\\\n",
       "\t 01010100b        & 1.421364         &     9.022727     &    144.96        &    -123          & 30               & 14              \\\\\n",
       "\t 015ka            & 2.790000         &   266.666667     &    268.34        &   -1000          &  2               &  4              \\\\\n",
       "\t 01Nov            & 2.000000         &   220.000000     &      0.00        &    -220          &  0               &  1              \\\\\n",
       "\t 03K75            & 1.350000         &  1166.666667     &   1411.84        &       0          &  3               &  0              \\\\\n",
       "\t 0on97            & 1.724444         &  4888.888889     &   6868.56        &  -25000          &  4               &  5              \\\\\n",
       "\t 0x0              & 0.932500         &   100.750000     &      0.37        &    -402          &  1               &  3              \\\\\n",
       "\t 0x22B            & 1.210000         &   250.000000     &      0.00        &    -250          &  0               &  1              \\\\\n",
       "\t 1000yen          & 0.996000         &     2.800000     &      1.19        &      -7          &  7               &  3              \\\\\n",
       "\t 1017738          & 4.383333         &  3010.666667     &   1020.60        &       0          &  3               &  0              \\\\\n",
       "\t 1017FickSquad    & 1.593333         &   130.000000     &     72.12        &    -300          &  2               &  1              \\\\\n",
       "\t 10\\_\\_\\_\\_\\_\\_\\_\\_\\_\\_10   & 1.200000                             &   600.000000                         &      0.00                            &    -600                              &  0                                   &  1                                  \\\\\n",
       "\t 11-1             & 2.655000         &    11.500000     &     13.68        &       0          &  2               &  0              \\\\\n",
       "\t 1213141516171819 & 2.905000         &     5.500000     &      0.00        &     -11          &  0               &  2              \\\\\n",
       "\t 1225             & 1.471679         &  1064.021898     &  28068.62        &  -32495          & 84               & 53              \\\\\n",
       "\t ... & ... & ... & ... & ... & ... & ...\\\\\n",
       "\t zaim         & 1.434118     &  406.470588  &   1836.83    &  -3800       &  12          &  5          \\\\\n",
       "\t zakbrin      & 1.832500     &  125.000000  &    406.20    &   -100       &   3          &  1          \\\\\n",
       "\t zanesuper20  & 1.200000     &  325.000000  &    147.71    &      0       &   2          &  0          \\\\\n",
       "\t zayn         & 1.631333     &    4.666667  &     78.32    &    -33       &   3          & 12          \\\\\n",
       "\t zayzay293    & 1.020000     & 2500.000000  &    119.49    &      0       &   1          &  0          \\\\\n",
       "\t zebra        & 1.100000     & 1000.000000  &    100.00    &      0       &   1          &  0          \\\\\n",
       "\t zelord       & 1.110000     &    5.666667  &      2.81    &      0       &   3          &  0          \\\\\n",
       "\t zenonkrivic  & 1.137500     &    2.375000  &      3.02    &     -1       &   7          &  1          \\\\\n",
       "\t zeropawnjobs & 1.323333     &    2.666667  &      1.10    &     -5       &   2          &  1          \\\\\n",
       "\t zheoleg      & 1.125000     &   10.000000  &      1.00    &    -10       &   1          &  1          \\\\\n",
       "\t zhorapupikov & 1.743649     &   25.027027  &    999.51    &  -1014       &  36          & 38          \\\\\n",
       "\t zhuzhik      & 1.200000     &    2.000000  &      0.87    &      0       &   2          &  0          \\\\\n",
       "\t zigfrid      & 1.880000     &   11.185185  &    160.13    &   -241       &   7          & 20          \\\\\n",
       "\t zigzag32     & 2.000000     & 2000.000000  &   2000.00    &      0       &   1          &  0          \\\\\n",
       "\t zileanbro    & 2.367500     &   27.500000  &    133.42    &    -41       &   3          &  1          \\\\\n",
       "\t ziriuz84     & 1.110000     &    1.000000  &      0.23    &      0       &   2          &  0          \\\\\n",
       "\t zivone       & 1.710000     &   10.000000  &      0.00    &    -10       &   0          &  1          \\\\\n",
       "\t zlatek       & 1.100000     &  200.000000  &     22.42    &      0       &   1          &  0          \\\\\n",
       "\t zmarat       & 1.197821     &   40.307692  &    445.02    &   -104       & 122          & 34          \\\\\n",
       "\t znay22       & 1.409467     &   22.613333  &   1268.56    &  -1533       &  90          & 60          \\\\\n",
       "\t zoidberg128  & 1.168182     & 3870.727273  &   9028.64    &  -2344       &  10          &  1          \\\\\n",
       "\t zonova31     & 1.010000     &   50.000000  &      0.50    &      0       &   1          &  0          \\\\\n",
       "\t zontamp      & 1.164286     & 6540.000000  &   4914.43    &   -100       &   6          &  1          \\\\\n",
       "\t zoro1958     & 1.500000     &   10.000000  &      5.00    &      0       &   1          &  0          \\\\\n",
       "\t zuit         & 1.470000     &  500.000000  &    242.71    &      0       &   1          &  0          \\\\\n",
       "\t zuko         & 1.640000     &  500.000000  &      0.00    &   -500       &   0          &  1          \\\\\n",
       "\t zum          & 1.430000     &  101.500000  &    108.64    &      0       &   2          &  0          \\\\\n",
       "\t zviadits     & 1.134528     &   25.509434  &    138.44    &   -399       &  47          &  6          \\\\\n",
       "\t zzanggu      & 3.716774     & 3902.161290  &   6952.96    & -90956       &   2          & 29          \\\\\n",
       "\t zzanggubank  & 4.050000     & 2106.444444  & 153905.43    & -11364       &   1          &  8          \\\\\n",
       "\\end{tabular}\n"
      ],
      "text/markdown": [
       "\n",
       "| Username | AverageCashedOut | AverageBet | TotalProfit | TotalLosses | GamesWon | GamesLost |\n",
       "|---|---|---|---|---|---|---|\n",
       "| ---------------- | 1.040000         |    10.333333     |      0.70        |      -8          |  2               |  1               |\n",
       "| --dilib--        | 1.505000         |   210.750000     |    371.37        |   -1239          |  2               |  6               |\n",
       "| -31337-          | 1.220000         |    32.500000     |     21.50        |     -55          |  3               |  1               |\n",
       "| -Nothing-        | 1.417077         |   322.876923     |   3794.31        |   -6915          | 42               | 23               |\n",
       "| -Tachyon         | 1.246000         |  1024.800000     |    629.68        |   -2124          |  4               |  1               |\n",
       "| -Y-              | 1.200000         |    16.000000     |      0.00        |     -32          |  0               |  2               |\n",
       "| -ZYBERPH-        | 1.220000         |  1000.000000     |    220.00        |       0          |  1               |  0               |\n",
       "| -_-TUYUL-_-      | 2.654000         |    30.400000     |     48.37        |    -140          |  1               |  4               |\n",
       "| -__---           | 1.334167         | 21775.708333     | 183322.25        | -116046          | 19               |  5               |\n",
       "| -i_              | 1.140000         |     3.000000     |      0.96        |       0          |  2               |  0               |\n",
       "| -mdK             | 1.380000         |  5000.000000     |   1986.83        |       0          |  1               |  0               |\n",
       "| -t-              | 2.287778         |   211.851852     |   5835.45        |   -1835          | 10               | 17               |\n",
       "| -tuyul-          | 2.396957         |    23.000000     |    148.97        |    -464          |  7               | 16               |\n",
       "| -xAx-            | 2.407143         |    13.142857     |     55.43        |     -54          |  4               |  3               |\n",
       "| 0-----_-----0    | 1.170000         |  2250.000000     |   2341.14        |    -700          |  2               |  2               |\n",
       "| 010101           | 1.520000         | 20153.666667     |   1025.00        |  -59361          |  2               |  1               |\n",
       "| 01010100b        | 1.421364         |     9.022727     |    144.96        |    -123          | 30               | 14               |\n",
       "| 015ka            | 2.790000         |   266.666667     |    268.34        |   -1000          |  2               |  4               |\n",
       "| 01Nov            | 2.000000         |   220.000000     |      0.00        |    -220          |  0               |  1               |\n",
       "| 03K75            | 1.350000         |  1166.666667     |   1411.84        |       0          |  3               |  0               |\n",
       "| 0on97            | 1.724444         |  4888.888889     |   6868.56        |  -25000          |  4               |  5               |\n",
       "| 0x0              | 0.932500         |   100.750000     |      0.37        |    -402          |  1               |  3               |\n",
       "| 0x22B            | 1.210000         |   250.000000     |      0.00        |    -250          |  0               |  1               |\n",
       "| 1000yen          | 0.996000         |     2.800000     |      1.19        |      -7          |  7               |  3               |\n",
       "| 1017738          | 4.383333         |  3010.666667     |   1020.60        |       0          |  3               |  0               |\n",
       "| 1017FickSquad    | 1.593333         |   130.000000     |     72.12        |    -300          |  2               |  1               |\n",
       "| 10__________10   | 1.200000         |   600.000000     |      0.00        |    -600          |  0               |  1               |\n",
       "| 11-1             | 2.655000         |    11.500000     |     13.68        |       0          |  2               |  0               |\n",
       "| 1213141516171819 | 2.905000         |     5.500000     |      0.00        |     -11          |  0               |  2               |\n",
       "| 1225             | 1.471679         |  1064.021898     |  28068.62        |  -32495          | 84               | 53               |\n",
       "| ... | ... | ... | ... | ... | ... | ... |\n",
       "| zaim         | 1.434118     |  406.470588  |   1836.83    |  -3800       |  12          |  5           |\n",
       "| zakbrin      | 1.832500     |  125.000000  |    406.20    |   -100       |   3          |  1           |\n",
       "| zanesuper20  | 1.200000     |  325.000000  |    147.71    |      0       |   2          |  0           |\n",
       "| zayn         | 1.631333     |    4.666667  |     78.32    |    -33       |   3          | 12           |\n",
       "| zayzay293    | 1.020000     | 2500.000000  |    119.49    |      0       |   1          |  0           |\n",
       "| zebra        | 1.100000     | 1000.000000  |    100.00    |      0       |   1          |  0           |\n",
       "| zelord       | 1.110000     |    5.666667  |      2.81    |      0       |   3          |  0           |\n",
       "| zenonkrivic  | 1.137500     |    2.375000  |      3.02    |     -1       |   7          |  1           |\n",
       "| zeropawnjobs | 1.323333     |    2.666667  |      1.10    |     -5       |   2          |  1           |\n",
       "| zheoleg      | 1.125000     |   10.000000  |      1.00    |    -10       |   1          |  1           |\n",
       "| zhorapupikov | 1.743649     |   25.027027  |    999.51    |  -1014       |  36          | 38           |\n",
       "| zhuzhik      | 1.200000     |    2.000000  |      0.87    |      0       |   2          |  0           |\n",
       "| zigfrid      | 1.880000     |   11.185185  |    160.13    |   -241       |   7          | 20           |\n",
       "| zigzag32     | 2.000000     | 2000.000000  |   2000.00    |      0       |   1          |  0           |\n",
       "| zileanbro    | 2.367500     |   27.500000  |    133.42    |    -41       |   3          |  1           |\n",
       "| ziriuz84     | 1.110000     |    1.000000  |      0.23    |      0       |   2          |  0           |\n",
       "| zivone       | 1.710000     |   10.000000  |      0.00    |    -10       |   0          |  1           |\n",
       "| zlatek       | 1.100000     |  200.000000  |     22.42    |      0       |   1          |  0           |\n",
       "| zmarat       | 1.197821     |   40.307692  |    445.02    |   -104       | 122          | 34           |\n",
       "| znay22       | 1.409467     |   22.613333  |   1268.56    |  -1533       |  90          | 60           |\n",
       "| zoidberg128  | 1.168182     | 3870.727273  |   9028.64    |  -2344       |  10          |  1           |\n",
       "| zonova31     | 1.010000     |   50.000000  |      0.50    |      0       |   1          |  0           |\n",
       "| zontamp      | 1.164286     | 6540.000000  |   4914.43    |   -100       |   6          |  1           |\n",
       "| zoro1958     | 1.500000     |   10.000000  |      5.00    |      0       |   1          |  0           |\n",
       "| zuit         | 1.470000     |  500.000000  |    242.71    |      0       |   1          |  0           |\n",
       "| zuko         | 1.640000     |  500.000000  |      0.00    |   -500       |   0          |  1           |\n",
       "| zum          | 1.430000     |  101.500000  |    108.64    |      0       |   2          |  0           |\n",
       "| zviadits     | 1.134528     |   25.509434  |    138.44    |   -399       |  47          |  6           |\n",
       "| zzanggu      | 3.716774     | 3902.161290  |   6952.96    | -90956       |   2          | 29           |\n",
       "| zzanggubank  | 4.050000     | 2106.444444  | 153905.43    | -11364       |   1          |  8           |\n",
       "\n"
      ],
      "text/plain": [
       "     Username         AverageCashedOut AverageBet   TotalProfit TotalLosses\n",
       "1    ---------------- 1.040000            10.333333      0.70        -8    \n",
       "2    --dilib--        1.505000           210.750000    371.37     -1239    \n",
       "3    -31337-          1.220000            32.500000     21.50       -55    \n",
       "4    -Nothing-        1.417077           322.876923   3794.31     -6915    \n",
       "5    -Tachyon         1.246000          1024.800000    629.68     -2124    \n",
       "6    -Y-              1.200000            16.000000      0.00       -32    \n",
       "7    -ZYBERPH-        1.220000          1000.000000    220.00         0    \n",
       "8    -_-TUYUL-_-      2.654000            30.400000     48.37      -140    \n",
       "9    -__---           1.334167         21775.708333 183322.25   -116046    \n",
       "10   -i_              1.140000             3.000000      0.96         0    \n",
       "11   -mdK             1.380000          5000.000000   1986.83         0    \n",
       "12   -t-              2.287778           211.851852   5835.45     -1835    \n",
       "13   -tuyul-          2.396957            23.000000    148.97      -464    \n",
       "14   -xAx-            2.407143            13.142857     55.43       -54    \n",
       "15   0-----_-----0    1.170000          2250.000000   2341.14      -700    \n",
       "16   010101           1.520000         20153.666667   1025.00    -59361    \n",
       "17   01010100b        1.421364             9.022727    144.96      -123    \n",
       "18   015ka            2.790000           266.666667    268.34     -1000    \n",
       "19   01Nov            2.000000           220.000000      0.00      -220    \n",
       "20   03K75            1.350000          1166.666667   1411.84         0    \n",
       "21   0on97            1.724444          4888.888889   6868.56    -25000    \n",
       "22   0x0              0.932500           100.750000      0.37      -402    \n",
       "23   0x22B            1.210000           250.000000      0.00      -250    \n",
       "24   1000yen          0.996000             2.800000      1.19        -7    \n",
       "25   1017738          4.383333          3010.666667   1020.60         0    \n",
       "26   1017FickSquad    1.593333           130.000000     72.12      -300    \n",
       "27   10__________10   1.200000           600.000000      0.00      -600    \n",
       "28   11-1             2.655000            11.500000     13.68         0    \n",
       "29   1213141516171819 2.905000             5.500000      0.00       -11    \n",
       "30   1225             1.471679          1064.021898  28068.62    -32495    \n",
       "...  ...              ...              ...          ...         ...        \n",
       "4120 zaim             1.434118          406.470588    1836.83    -3800     \n",
       "4121 zakbrin          1.832500          125.000000     406.20     -100     \n",
       "4122 zanesuper20      1.200000          325.000000     147.71        0     \n",
       "4123 zayn             1.631333            4.666667      78.32      -33     \n",
       "4124 zayzay293        1.020000         2500.000000     119.49        0     \n",
       "4125 zebra            1.100000         1000.000000     100.00        0     \n",
       "4126 zelord           1.110000            5.666667       2.81        0     \n",
       "4127 zenonkrivic      1.137500            2.375000       3.02       -1     \n",
       "4128 zeropawnjobs     1.323333            2.666667       1.10       -5     \n",
       "4129 zheoleg          1.125000           10.000000       1.00      -10     \n",
       "4130 zhorapupikov     1.743649           25.027027     999.51    -1014     \n",
       "4131 zhuzhik          1.200000            2.000000       0.87        0     \n",
       "4132 zigfrid          1.880000           11.185185     160.13     -241     \n",
       "4133 zigzag32         2.000000         2000.000000    2000.00        0     \n",
       "4134 zileanbro        2.367500           27.500000     133.42      -41     \n",
       "4135 ziriuz84         1.110000            1.000000       0.23        0     \n",
       "4136 zivone           1.710000           10.000000       0.00      -10     \n",
       "4137 zlatek           1.100000          200.000000      22.42        0     \n",
       "4138 zmarat           1.197821           40.307692     445.02     -104     \n",
       "4139 znay22           1.409467           22.613333    1268.56    -1533     \n",
       "4140 zoidberg128      1.168182         3870.727273    9028.64    -2344     \n",
       "4141 zonova31         1.010000           50.000000       0.50        0     \n",
       "4142 zontamp          1.164286         6540.000000    4914.43     -100     \n",
       "4143 zoro1958         1.500000           10.000000       5.00        0     \n",
       "4144 zuit             1.470000          500.000000     242.71        0     \n",
       "4145 zuko             1.640000          500.000000       0.00     -500     \n",
       "4146 zum              1.430000          101.500000     108.64        0     \n",
       "4147 zviadits         1.134528           25.509434     138.44     -399     \n",
       "4148 zzanggu          3.716774         3902.161290    6952.96   -90956     \n",
       "4149 zzanggubank      4.050000         2106.444444  153905.43   -11364     \n",
       "     GamesWon GamesLost\n",
       "1     2        1       \n",
       "2     2        6       \n",
       "3     3        1       \n",
       "4    42       23       \n",
       "5     4        1       \n",
       "6     0        2       \n",
       "7     1        0       \n",
       "8     1        4       \n",
       "9    19        5       \n",
       "10    2        0       \n",
       "11    1        0       \n",
       "12   10       17       \n",
       "13    7       16       \n",
       "14    4        3       \n",
       "15    2        2       \n",
       "16    2        1       \n",
       "17   30       14       \n",
       "18    2        4       \n",
       "19    0        1       \n",
       "20    3        0       \n",
       "21    4        5       \n",
       "22    1        3       \n",
       "23    0        1       \n",
       "24    7        3       \n",
       "25    3        0       \n",
       "26    2        1       \n",
       "27    0        1       \n",
       "28    2        0       \n",
       "29    0        2       \n",
       "30   84       53       \n",
       "...  ...      ...      \n",
       "4120  12       5       \n",
       "4121   3       1       \n",
       "4122   2       0       \n",
       "4123   3      12       \n",
       "4124   1       0       \n",
       "4125   1       0       \n",
       "4126   3       0       \n",
       "4127   7       1       \n",
       "4128   2       1       \n",
       "4129   1       1       \n",
       "4130  36      38       \n",
       "4131   2       0       \n",
       "4132   7      20       \n",
       "4133   1       0       \n",
       "4134   3       1       \n",
       "4135   2       0       \n",
       "4136   0       1       \n",
       "4137   1       0       \n",
       "4138 122      34       \n",
       "4139  90      60       \n",
       "4140  10       1       \n",
       "4141   1       0       \n",
       "4142   6       1       \n",
       "4143   1       0       \n",
       "4144   1       0       \n",
       "4145   0       1       \n",
       "4146   2       0       \n",
       "4147  47       6       \n",
       "4148   2      29       \n",
       "4149   1       8       "
      ]
     },
     "metadata": {},
     "output_type": "display_data"
    }
   ],
   "source": [
    "# Group by players to create per-player summary statistics\n",
    "bustabit_clus <- bustabit_features %>%\n",
    "  group_by(Username) %>%\n",
    "  summarize(AverageCashedOut = mean(CashedOut), \n",
    "            AverageBet = mean(Bet),\n",
    "            TotalProfit = sum(Profit),\n",
    "            TotalLosses = sum(Losses), \n",
    "            GamesWon = sum(GameWon),\n",
    "            GamesLost = sum(GameLost))\n",
    "\n",
    "bustabit_clus"
   ]
  },
  {
   "cell_type": "markdown",
   "metadata": {
    "dc": {
     "key": "25"
    },
    "deletable": false,
    "editable": false,
    "run_control": {
     "frozen": true
    },
    "tags": [
     "context"
    ]
   },
   "source": [
    "## 4. Scaling and normalization of the derived features\n",
    "<p>The variables are on very different <strong>scales</strong> right now. For example, <code>AverageBet</code> is in bits (1/1000000 of a Bitcoin), <code>AverageCashedOut</code> is a multiplier, and <code>GamesLost</code> and <code>GamesWon</code> are counts. As a result, we would like to <strong>normalize</strong> the variables such that across clustering algorithms, they will have approximately equal weighting.</p>\n",
    "<p>One thing to think about is that in many cases, we may actually want a particular numeric variable to maintain a higher weight. This could occur if there is some prior knowledge regarding, for example, which variable might be most important in terms of defining similar Bustabit behavior. In this case, without that prior knowledge, we will forego the weighting of variables and scale everything. We are going to use <strong>mean-sd</strong> standardization to scale the data. Note that this is also known as a <strong>Z-score</strong>.</p>\n",
    "<p>Note that we could compute the Z-scores by using the base R function <code>scale()</code>, but we're going to write our own function in order to get the practice.</p>"
   ]
  },
  {
   "cell_type": "code",
   "execution_count": 4,
   "metadata": {
    "dc": {
     "key": "25"
    },
    "tags": [
     "sample_code"
    ]
   },
   "outputs": [
    {
     "data": {
      "text/plain": [
       "   Username         AverageCashedOut     AverageBet       TotalProfit      \n",
       " Length:4149        Min.   :-0.76289   Min.   :-0.1773   Min.   :-0.09052  \n",
       " Class :character   1st Qu.:-0.28157   1st Qu.:-0.1765   1st Qu.:-0.09050  \n",
       " Mode  :character   Median :-0.18056   Median :-0.1711   Median :-0.08974  \n",
       "                    Mean   : 0.00000   Mean   : 0.0000   Mean   : 0.00000  \n",
       "                    3rd Qu.: 0.02752   3rd Qu.:-0.1384   3rd Qu.:-0.08183  \n",
       "                    Max.   :41.72651   Max.   :24.9971   Max.   :40.73652  \n",
       "  TotalLosses           GamesWon         GamesLost       \n",
       " Min.   :-41.84541   Min.   :-0.4320   Min.   :-0.41356  \n",
       " 1st Qu.:  0.09837   1st Qu.:-0.3696   1st Qu.:-0.41356  \n",
       " Median :  0.10847   Median :-0.3071   Median :-0.33306  \n",
       " Mean   :  0.00000   Mean   : 0.0000   Mean   : 0.00000  \n",
       " 3rd Qu.:  0.10916   3rd Qu.:-0.1196   3rd Qu.:-0.09156  \n",
       " Max.   :  0.10916   Max.   :13.2534   Max.   :19.30911  "
      ]
     },
     "metadata": {},
     "output_type": "display_data"
    }
   ],
   "source": [
    "# Create the mean-sd standardization function\n",
    "mean_sd_standard <- function(x) {\n",
    "    (x-mean(x))/ sd(x)\n",
    "}\n",
    "\n",
    "# Apply the function to each numeric variable in the clustering set\n",
    "bustabit_standardized <- bustabit_clus %>%\n",
    "    mutate_if(is.numeric, mean_sd_standard)\n",
    "              \n",
    "summary(bustabit_standardized)"
   ]
  },
  {
   "cell_type": "markdown",
   "metadata": {
    "dc": {
     "key": "32"
    },
    "deletable": false,
    "editable": false,
    "run_control": {
     "frozen": true
    },
    "tags": [
     "context"
    ]
   },
   "source": [
    "## 5. Cluster the player data using K means\n",
    "<p>With standardized data of per-player features, we are now ready to use K means clustering in order to cluster the players based on their online gambling behavior. K means is implemented in R in the <code>kmeans()</code> function from the stats package. This function requires the <code>centers</code> parameter, which represents the number of clusters to use. </p>\n",
    "<p>Without prior knowledge, it is often difficult to know what an appropriate choice for the number of clusters is. We will begin by choosing <strong>five</strong>. This choice is rather arbitrary, but represents a good initial compromise between choosing too many clusters (which reduces the interpretability of the final results), and choosing too few clusters (which may not capture the distinctive behaviors effectively). Feel free to play around with other choices for the number of clusters and see what you get instead!</p>\n",
    "<p>One subtlety to note - because the K means algorithm uses a random start, we are going to set a random seed first in order to ensure the results are reproducible.</p>"
   ]
  },
  {
   "cell_type": "code",
   "execution_count": 5,
   "metadata": {
    "dc": {
     "key": "32"
    },
    "tags": [
     "sample_code"
    ]
   },
   "outputs": [
    {
     "data": {
      "text/plain": [
       "\n",
       "   1    2    3    4    5 \n",
       "  17   16   70  392 3654 "
      ]
     },
     "metadata": {},
     "output_type": "display_data"
    }
   ],
   "source": [
    "# Choose 20190101 as our random seed\n",
    "set.seed(20190101)\n",
    "\n",
    "# Cluster the players using kmeans with five clusters\n",
    "cluster_solution <- kmeans(bustabit_standardized[,-1], centers = 5)\n",
    "\n",
    "# Store the cluster assignments back into the clustering data frame object\n",
    "bustabit_clus$cluster <- as.factor(cluster_solution$cluster)\n",
    "\n",
    "# Look at the distribution of cluster assignments\n",
    "table(bustabit_clus$cluster)"
   ]
  },
  {
   "cell_type": "markdown",
   "metadata": {
    "dc": {
     "key": "39"
    },
    "deletable": false,
    "editable": false,
    "run_control": {
     "frozen": true
    },
    "tags": [
     "context"
    ]
   },
   "source": [
    "## 6. Compute averages for each cluster\n",
    "<p>We have a clustering assignment which maps every Bustabit gambler to one of five different groups. To begin to assess the quality and distinctiveness of these groups, we are going to look at <strong>group averages</strong> for each cluster across the original variables in our clustering dataset. This will, for example, allow us to see which cluster tends to make the largest bets, which cluster tends to win the most games, and which cluster tends to lose the most money. This will provide us with our first clear indication as to whether the behaviors of the groups appear distinctive!</p>"
   ]
  },
  {
   "cell_type": "code",
   "execution_count": 6,
   "metadata": {
    "dc": {
     "key": "39"
    },
    "tags": [
     "sample_code"
    ]
   },
   "outputs": [
    {
     "data": {
      "text/html": [
       "<table>\n",
       "<thead><tr><th scope=col>cluster</th><th scope=col>AverageCashedOut</th><th scope=col>AverageBet</th><th scope=col>TotalProfit</th><th scope=col>TotalLosses</th><th scope=col>GamesWon</th><th scope=col>GamesLost</th></tr></thead>\n",
       "<tbody>\n",
       "\t<tr><td>1            </td><td>27.448235    </td><td>  1278.2574  </td><td>    619.4041 </td><td>    -581.2941</td><td> 0.7058824   </td><td> 1.529412    </td></tr>\n",
       "\t<tr><td>2            </td><td> 2.470024    </td><td>298945.6618  </td><td>1198191.1631 </td><td>-1056062.1875</td><td>10.5625000   </td><td> 8.062500    </td></tr>\n",
       "\t<tr><td>3            </td><td> 1.801019    </td><td>   459.8624  </td><td>  20117.7024 </td><td>  -18231.3714</td><td>88.7857143   </td><td>64.928571    </td></tr>\n",
       "\t<tr><td>4            </td><td> 1.903882    </td><td>  1513.2644  </td><td>  18534.4196 </td><td>  -17594.5612</td><td>29.0025510   </td><td>21.742347    </td></tr>\n",
       "\t<tr><td>5            </td><td> 1.701762    </td><td>  4015.4979  </td><td>   4445.7633 </td><td>   -4617.9625</td><td> 2.9885057   </td><td> 2.214559    </td></tr>\n",
       "</tbody>\n",
       "</table>\n"
      ],
      "text/latex": [
       "\\begin{tabular}{r|lllllll}\n",
       " cluster & AverageCashedOut & AverageBet & TotalProfit & TotalLosses & GamesWon & GamesLost\\\\\n",
       "\\hline\n",
       "\t 1             & 27.448235     &   1278.2574   &     619.4041  &     -581.2941 &  0.7058824    &  1.529412    \\\\\n",
       "\t 2             &  2.470024     & 298945.6618   & 1198191.1631  & -1056062.1875 & 10.5625000    &  8.062500    \\\\\n",
       "\t 3             &  1.801019     &    459.8624   &   20117.7024  &   -18231.3714 & 88.7857143    & 64.928571    \\\\\n",
       "\t 4             &  1.903882     &   1513.2644   &   18534.4196  &   -17594.5612 & 29.0025510    & 21.742347    \\\\\n",
       "\t 5             &  1.701762     &   4015.4979   &    4445.7633  &    -4617.9625 &  2.9885057    &  2.214559    \\\\\n",
       "\\end{tabular}\n"
      ],
      "text/markdown": [
       "\n",
       "| cluster | AverageCashedOut | AverageBet | TotalProfit | TotalLosses | GamesWon | GamesLost |\n",
       "|---|---|---|---|---|---|---|\n",
       "| 1             | 27.448235     |   1278.2574   |     619.4041  |     -581.2941 |  0.7058824    |  1.529412     |\n",
       "| 2             |  2.470024     | 298945.6618   | 1198191.1631  | -1056062.1875 | 10.5625000    |  8.062500     |\n",
       "| 3             |  1.801019     |    459.8624   |   20117.7024  |   -18231.3714 | 88.7857143    | 64.928571     |\n",
       "| 4             |  1.903882     |   1513.2644   |   18534.4196  |   -17594.5612 | 29.0025510    | 21.742347     |\n",
       "| 5             |  1.701762     |   4015.4979   |    4445.7633  |    -4617.9625 |  2.9885057    |  2.214559     |\n",
       "\n"
      ],
      "text/plain": [
       "  cluster AverageCashedOut AverageBet  TotalProfit  TotalLosses   GamesWon  \n",
       "1 1       27.448235          1278.2574     619.4041     -581.2941  0.7058824\n",
       "2 2        2.470024        298945.6618 1198191.1631 -1056062.1875 10.5625000\n",
       "3 3        1.801019           459.8624   20117.7024   -18231.3714 88.7857143\n",
       "4 4        1.903882          1513.2644   18534.4196   -17594.5612 29.0025510\n",
       "5 5        1.701762          4015.4979    4445.7633    -4617.9625  2.9885057\n",
       "  GamesLost\n",
       "1  1.529412\n",
       "2  8.062500\n",
       "3 64.928571\n",
       "4 21.742347\n",
       "5  2.214559"
      ]
     },
     "metadata": {},
     "output_type": "display_data"
    }
   ],
   "source": [
    "# Group by the cluster assignment and calculate averages\n",
    "bustabit_clus_avg <- bustabit_clus %>%\n",
    "    group_by(cluster) %>%\n",
    "    summarize_if(is.numeric, mean)\n",
    "\n",
    "# View the resulting table\n",
    "bustabit_clus_avg"
   ]
  },
  {
   "cell_type": "markdown",
   "metadata": {
    "dc": {
     "key": "46"
    },
    "deletable": false,
    "editable": false,
    "run_control": {
     "frozen": true
    },
    "tags": [
     "context"
    ]
   },
   "source": [
    "## 7. Visualize the clusters with a Parallel Coordinate Plot\n",
    "<p>We can already learn a bit about our cluster groupings by looking at the previous table. We can clearly see that there is a group that makes very large bets, a group that tends to cash out at very high multiplier values, and a group that has played many games of Bustabit. We can visualize these group differences graphically using a Parallel Coordinate Plot or PCP. To do so, we will introduce one more kind of scaling: min-max scaling, which forces each variable to fall between 0 and 1.</p>\n",
    "<p>Other choices of scaling, such as the Z-score method from before, can work effectively as well. However, min-max scaling has the advantage of <strong>interpretability</strong> - a value of 1 for a particular variable indicates that cluster has the highest value compared to all other clusters, and a value of 0 indicates that it has the lowest. This can help make relative comparisons between the clusters more clear.</p>\n",
    "<p>The <code>ggparcoord()</code> function from <code>GGally</code> will be used to produce a Parallel Coordinate Plot. Note that this has a built-in argument <code>scale</code> to perform different scaling options, including min-max scaling. We will set this option to <code>\"globalminmax\"</code> to perform no scaling, and write our own scaling routine for practice. If you are interested, you can look at the function definition for <code>ggparcoord()</code> to help you write our scaling function!</p>"
   ]
  },
  {
   "cell_type": "code",
   "execution_count": 7,
   "metadata": {},
   "outputs": [
    {
     "name": "stderr",
     "output_type": "stream",
     "text": [
      "also installing the dependencies ‘processx’, ‘rprojroot’, ‘pkgbuild’, ‘diffobj’, ‘rematch2’, ‘brio’, ‘callr’, ‘desc’, ‘ellipsis’, ‘pkgload’, ‘praise’, ‘ps’, ‘waldo’, ‘testthat’, ‘isoband’, ‘farver’, ‘rlang’, ‘ggplot2’, ‘reshape’, ‘scales’, ‘lifecycle’\n",
      "\n",
      "Updating HTML index of packages in '.Library'\n",
      "Making 'packages.html' ... done\n"
     ]
    }
   ],
   "source": [
    "install.packages(\"GGally\")"
   ]
  },
  {
   "cell_type": "code",
   "execution_count": 8,
   "metadata": {
    "dc": {
     "key": "46"
    },
    "tags": [
     "sample_code"
    ]
   },
   "outputs": [
    {
     "ename": "ERROR",
     "evalue": "Error: package or namespace load failed for ‘GGally’ in loadNamespace(i, c(lib.loc, .libPaths()), versionCheck = vI[[i]]):\n namespace ‘rlang’ 0.3.4 is already loaded, but >= 0.4.0 is required\n",
     "output_type": "error",
     "traceback": [
      "Error: package or namespace load failed for ‘GGally’ in loadNamespace(i, c(lib.loc, .libPaths()), versionCheck = vI[[i]]):\n namespace ‘rlang’ 0.3.4 is already loaded, but >= 0.4.0 is required\nTraceback:\n",
      "1. library(GGally)",
      "2. tryCatch({\n .     attr(package, \"LibPath\") <- which.lib.loc\n .     ns <- loadNamespace(package, lib.loc)\n .     env <- attachNamespace(ns, pos = pos, deps, exclude, include.only)\n . }, error = function(e) {\n .     P <- if (!is.null(cc <- conditionCall(e))) \n .         paste(\" in\", deparse(cc)[1L])\n .     else \"\"\n .     msg <- gettextf(\"package or namespace load failed for %s%s:\\n %s\", \n .         sQuote(package), P, conditionMessage(e))\n .     if (logical.return) \n .         message(paste(\"Error:\", msg), domain = NA)\n .     else stop(msg, call. = FALSE, domain = NA)\n . })",
      "3. tryCatchList(expr, classes, parentenv, handlers)",
      "4. tryCatchOne(expr, names, parentenv, handlers[[1L]])",
      "5. value[[3L]](cond)",
      "6. stop(msg, call. = FALSE, domain = NA)"
     ]
    }
   ],
   "source": [
    "# Create the min-max scaling function\n",
    "min_max_standard <- function(x) {\n",
    "    (x-min(x)) / (max(x)-min(x))\n",
    "}\n",
    "\n",
    "# Apply this function to each numeric variable in the bustabit_clus_avg object\n",
    "bustabit_avg_minmax <- bustabit_clus_avg %>%\n",
    "    mutate_if(is.numeric, min_max_standard)\n",
    "\n",
    "# Load the GGally package\n",
    "library(GGally)\n",
    "              \n",
    "# Create a parallel coordinate plot of the values\n",
    "ggparcoord(bustabit_avg_minmax, columns = 2:ncol(bustabit_avg_minmax), \n",
    "           groupColumn = \"cluster\", scale = \"globalminmax\", order = \"skewness\")"
   ]
  },
  {
   "cell_type": "markdown",
   "metadata": {
    "dc": {
     "key": "53"
    },
    "deletable": false,
    "editable": false,
    "run_control": {
     "frozen": true
    },
    "tags": [
     "context"
    ]
   },
   "source": [
    "## 8. Visualize the clusters with Principal Components\n",
    "<p>One issue with plots like the previous is that they get more unwieldy as we continue to add variables. One way to solve this is to use the Principal Components of a dataset in order to reduce the dimensionality to aid in visualization. Essentially, this is a two-stage process:</p>\n",
    "<ol>\n",
    "<li>We extract the principal components in order to reduce the dimensionality of the dataset so that we can produce a scatterplot in two dimensions that captures the underlying structure of the higher-dimensional data.</li>\n",
    "<li>We then produce a scatterplot of each observation (in this case, each player) across the two Principal Components and color according to their cluster assignment in order to visualize the separation of the clusters.</li>\n",
    "</ol>\n",
    "<p>This plot provides interesting information in terms of the similarity of any two players. In fact, you will see that players who fall close to the boundaries of clusters might be the ones that exhibit the gambling behavior of a couple of different clusters. After you produce your plot, try to determine which clusters seem to be the most \"different.\" Also, try playing around with different projections of the data, such as PC3 vs. PC2, or PC3 vs. PC1, to see if you can find one that better differentiates the groups.</p>"
   ]
  },
  {
   "cell_type": "code",
   "execution_count": 14,
   "metadata": {
    "dc": {
     "key": "53"
    },
    "tags": [
     "sample_code"
    ]
   },
   "outputs": [
    {
     "data": {
      "image/png": "[encoded data removed]",
      "text/plain": [
       "plot without title"
      ]
     },
     "metadata": {},
     "output_type": "display_data"
    }
   ],
   "source": [
    "# Calculate the principal components of the standardized data\n",
    "my_pc <- as.data.frame(prcomp(bustabit_standardized[,-1])$x)\n",
    "\n",
    "# Store the cluster assignments in the new data frame\n",
    "my_pc$cluster <- bustabit_clus$cluster\n",
    "\n",
    "# Use ggplot() to plot PC2 vs PC1, and color by the cluster assignment\n",
    "p1 <- ggplot(my_pc, aes(x = PC1, y = PC2, color = cluster)) + geom_point()\n",
    "\n",
    "# View the resulting plot\n",
    "p1"
   ]
  },
  {
   "cell_type": "markdown",
   "metadata": {
    "dc": {
     "key": "60"
    },
    "deletable": false,
    "editable": false,
    "run_control": {
     "frozen": true
    },
    "tags": [
     "context"
    ]
   },
   "source": [
    "## 9. Analyzing the groups of gamblers our solution uncovered\n",
    "<p>Though most of the statistical and programmatical work has been completed, possibly the most important part of a cluster analysis is to interpret the resulting clusters. This often is the most desired aspect of the analysis by clients, who are hoping to use the results of your analysis to inform better business decision making and actionable items. As a final step, we'll use the parallel coordinate plot and cluster means table to interpret the Bustabit gambling user groups! Roughly speaking, we can breakdown the groups as follows:</p>\n",
    "<p><strong><p style=\"color:#d95f02\">Cautious Commoners:</p></strong> This is the largest of the five clusters, and might be described as the more casual Bustabit players. They've played the fewest number of games overall, and tend to make more conservative bets in general. </p>\n",
    "<p><strong><p style=\"color:#66a61e\">Strategic Addicts:</p></strong> These users play a lot of games on Bustabit, but tend to keep their bets under control. As a result, they've made on average a net positive earnings from the site, in spite of having the most games played. They seem to maintain a strategy (or an automated script/bot) that works to earn them money.</p>\n",
    "<p><strong><p style=\"color:#7570b3\">Risky Commoners:</p></strong> These users seem to be a step above the Cautious Commoners in their Bustabit gambling habits, making larger average bets, and playing a larger number of games on the site. As a result, though they have about the same number of average games won as the Risk Takers, they have a significantly higher number of games lost.</p>\n",
    "<p><strong><p style=\"color:#1b9e77\">Risk Takers: </p></strong> These users have played only a couple games on average, but their average cashed out value is significantly higher than the other clusters, indicating that they tend to wait for the multiplier to increase to large values before cashing out.</p>\n",
    "<p><strong><p style=\"color:#e7298a\">High Rollers:</p></strong> High bets are the name of the game for this group. They bet large sums of money in each game, although they tend to cash out at lower multipliers and thus play the game more conservatively, particularly compared to the Risk Takers. Interestingly, these users have also on average earned a net positive earnings from their games played.</p>"
   ]
  },
  {
   "cell_type": "code",
   "execution_count": 15,
   "metadata": {
    "dc": {
     "key": "60"
    },
    "tags": [
     "sample_code"
    ]
   },
   "outputs": [
    {
     "data": {
      "text/html": [
       "<table>\n",
       "<thead><tr><th scope=col>cluster</th><th scope=col>AverageCashedOut</th><th scope=col>AverageBet</th><th scope=col>TotalProfit</th><th scope=col>TotalLosses</th><th scope=col>GamesWon</th><th scope=col>GamesLost</th><th scope=col>Name</th></tr></thead>\n",
       "<tbody>\n",
       "\t<tr><td>1                </td><td>27.448235        </td><td>  1278.2574      </td><td>    619.4041     </td><td>    -581.2941    </td><td> 0.7058824       </td><td> 1.529412        </td><td>Risky Commoners  </td></tr>\n",
       "\t<tr><td>2                </td><td> 2.470024        </td><td>298945.6618      </td><td>1198191.1631     </td><td>-1056062.1875    </td><td>10.5625000       </td><td> 8.062500        </td><td>High Rollers     </td></tr>\n",
       "\t<tr><td>3                </td><td> 1.801019        </td><td>   459.8624      </td><td>  20117.7024     </td><td>  -18231.3714    </td><td>88.7857143       </td><td>64.928571        </td><td>High Rollers     </td></tr>\n",
       "\t<tr><td>4                </td><td> 1.903882        </td><td>  1513.2644      </td><td>  18534.4196     </td><td>  -17594.5612    </td><td>29.0025510       </td><td>21.742347        </td><td>Risk Takers      </td></tr>\n",
       "\t<tr><td>5                </td><td> 1.701762        </td><td>  4015.4979      </td><td>   4445.7633     </td><td>   -4617.9625    </td><td> 2.9885057       </td><td> 2.214559        </td><td>Strategic Addicts</td></tr>\n",
       "</tbody>\n",
       "</table>\n"
      ],
      "text/latex": [
       "\\begin{tabular}{r|llllllll}\n",
       " cluster & AverageCashedOut & AverageBet & TotalProfit & TotalLosses & GamesWon & GamesLost & Name\\\\\n",
       "\\hline\n",
       "\t 1                 & 27.448235         &   1278.2574       &     619.4041      &     -581.2941     &  0.7058824        &  1.529412         & Risky Commoners  \\\\\n",
       "\t 2                 &  2.470024         & 298945.6618       & 1198191.1631      & -1056062.1875     & 10.5625000        &  8.062500         & High Rollers     \\\\\n",
       "\t 3                 &  1.801019         &    459.8624       &   20117.7024      &   -18231.3714     & 88.7857143        & 64.928571         & High Rollers     \\\\\n",
       "\t 4                 &  1.903882         &   1513.2644       &   18534.4196      &   -17594.5612     & 29.0025510        & 21.742347         & Risk Takers      \\\\\n",
       "\t 5                 &  1.701762         &   4015.4979       &    4445.7633      &    -4617.9625     &  2.9885057        &  2.214559         & Strategic Addicts\\\\\n",
       "\\end{tabular}\n"
      ],
      "text/markdown": [
       "\n",
       "| cluster | AverageCashedOut | AverageBet | TotalProfit | TotalLosses | GamesWon | GamesLost | Name |\n",
       "|---|---|---|---|---|---|---|---|\n",
       "| 1                 | 27.448235         |   1278.2574       |     619.4041      |     -581.2941     |  0.7058824        |  1.529412         | Risky Commoners   |\n",
       "| 2                 |  2.470024         | 298945.6618       | 1198191.1631      | -1056062.1875     | 10.5625000        |  8.062500         | High Rollers      |\n",
       "| 3                 |  1.801019         |    459.8624       |   20117.7024      |   -18231.3714     | 88.7857143        | 64.928571         | High Rollers      |\n",
       "| 4                 |  1.903882         |   1513.2644       |   18534.4196      |   -17594.5612     | 29.0025510        | 21.742347         | Risk Takers       |\n",
       "| 5                 |  1.701762         |   4015.4979       |    4445.7633      |    -4617.9625     |  2.9885057        |  2.214559         | Strategic Addicts |\n",
       "\n"
      ],
      "text/plain": [
       "  cluster AverageCashedOut AverageBet  TotalProfit  TotalLosses   GamesWon  \n",
       "1 1       27.448235          1278.2574     619.4041     -581.2941  0.7058824\n",
       "2 2        2.470024        298945.6618 1198191.1631 -1056062.1875 10.5625000\n",
       "3 3        1.801019           459.8624   20117.7024   -18231.3714 88.7857143\n",
       "4 4        1.903882          1513.2644   18534.4196   -17594.5612 29.0025510\n",
       "5 5        1.701762          4015.4979    4445.7633    -4617.9625  2.9885057\n",
       "  GamesLost Name             \n",
       "1  1.529412 Risky Commoners  \n",
       "2  8.062500 High Rollers     \n",
       "3 64.928571 High Rollers     \n",
       "4 21.742347 Risk Takers      \n",
       "5  2.214559 Strategic Addicts"
      ]
     },
     "metadata": {},
     "output_type": "display_data"
    }
   ],
   "source": [
    "# Assign cluster names to clusters 1 through 5 in order\n",
    "cluster_names <- c(\n",
    "    \"Risky Commoners\",\n",
    "    \"High Rollers\",\n",
    "    \"High Rollers\",\n",
    "    \"Risk Takers\",\n",
    "    \"Strategic Addicts\"\n",
    ")\n",
    "\n",
    "# Append the cluster names to the cluster means table\n",
    "bustabit_clus_avg_named <- bustabit_clus_avg %>%\n",
    "    cbind(Name = cluster_names)\n",
    "\n",
    "# View the cluster means table with your appended cluster names\n",
    "bustabit_clus_avg_named"
   ]
  },
  {
   "cell_type": "code",
   "execution_count": null,
   "metadata": {},
   "outputs": [],
   "source": []
  }
 ],
 "metadata": {
  "kernelspec": {
   "display_name": "R",
   "language": "R",
   "name": "ir"
  },
  "language_info": {
   "codemirror_mode": "r",
   "file_extension": ".r",
   "mimetype": "text/x-r-source",
   "name": "R",
   "pygments_lexer": "r",
   "version": "3.6.1"
  }
 },
 "nbformat": 4,
 "nbformat_minor": 2
}
