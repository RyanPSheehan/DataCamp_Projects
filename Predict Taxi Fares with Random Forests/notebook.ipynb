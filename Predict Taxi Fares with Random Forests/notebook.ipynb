{
 "cells": [
  {
   "cell_type": "markdown",
   "metadata": {
    "dc": {
     "key": "3"
    },
    "deletable": false,
    "editable": false,
    "run_control": {
     "frozen": true
    },
    "tags": [
     "context"
    ]
   },
   "source": [
    "## 1. 49999 New York taxi trips\n",
    "<p><img style=\"float: right;margin:5px 20px 5px 1px; max-width:300px\" src=\"https://assets.datacamp.com/production/project_496/img/taxi.jpg\"> To drive a yellow New York taxi, you have to hold a \"medallion\" from the city's <em>Taxi and Limousine Commission</em>. Recently, one of those changed hands for over one million dollars, which shows how lucrative the job can be.</p>\n",
    "<p>But this is the age of business intelligence and analytics! Even taxi drivers can stand to benefit from some careful investigation of the data, guiding them to maximize their profits. In this project, we will analyze a random sample of 49999 New York journeys made in 2013. We will also use regression trees and random forests to build a model that can predict the locations and times when the biggest fares can be earned.</p>\n",
    "<p>Let's start by taking a look at the data!</p>"
   ]
  },
  {
   "cell_type": "code",
   "execution_count": 1,
   "metadata": {
    "dc": {
     "key": "3"
    },
    "tags": [
     "sample_code"
    ]
   },
   "outputs": [
    {
     "name": "stderr",
     "output_type": "stream",
     "text": [
      "Registered S3 methods overwritten by 'ggplot2':\n",
      "  method         from \n",
      "  [.quosures     rlang\n",
      "  c.quosures     rlang\n",
      "  print.quosures rlang\n",
      "Registered S3 method overwritten by 'rvest':\n",
      "  method            from\n",
      "  read_xml.response xml2\n",
      "── Attaching packages ─────────────────────────────────────── tidyverse 1.2.1 ──\n",
      "✔ ggplot2 3.1.1       ✔ purrr   0.3.2  \n",
      "✔ tibble  2.1.1       ✔ dplyr   0.8.0.1\n",
      "✔ tidyr   0.8.3       ✔ stringr 1.4.0  \n",
      "✔ readr   1.3.1       ✔ forcats 0.4.0  \n",
      "── Conflicts ────────────────────────────────────────── tidyverse_conflicts() ──\n",
      "✖ dplyr::filter() masks stats::filter()\n",
      "✖ dplyr::lag()    masks stats::lag()\n",
      "Parsed with column specification:\n",
      "cols(\n",
      "  medallion = col_character(),\n",
      "  pickup_datetime = col_datetime(format = \"\"),\n",
      "  pickup_longitude = col_double(),\n",
      "  pickup_latitude = col_double(),\n",
      "  trip_time_in_secs = col_double(),\n",
      "  fare_amount = col_double(),\n",
      "  tip_amount = col_double()\n",
      ")\n"
     ]
    },
    {
     "data": {
      "text/html": [
       "<table>\n",
       "<thead><tr><th scope=col>medallion</th><th scope=col>pickup_datetime</th><th scope=col>pickup_longitude</th><th scope=col>pickup_latitude</th><th scope=col>trip_time_in_secs</th><th scope=col>fare_amount</th><th scope=col>tip_amount</th></tr></thead>\n",
       "<tbody>\n",
       "\t<tr><td>4D24F4D8EF35878595044A52B098DFD2</td><td>2013-01-13 10:23:00             </td><td>-73.94646                       </td><td>40.77273                        </td><td>600                             </td><td> 8.0                            </td><td>2.5                             </td></tr>\n",
       "\t<tr><td>A49C37EB966E7B05E69523D1CB7BE303</td><td>2013-01-13 04:52:00             </td><td>-73.99827                       </td><td>40.74041                        </td><td>840                             </td><td>18.0                            </td><td>0.0                             </td></tr>\n",
       "\t<tr><td>1E4B72A8E623888F53A9693C364AC05A</td><td>2013-01-13 10:47:00             </td><td>-73.95346                       </td><td>40.77586                        </td><td> 60                             </td><td> 3.5                            </td><td>0.7                             </td></tr>\n",
       "\t<tr><td>F7E4E9439C46B8AD5B16AB9F1B3279D7</td><td>2013-01-13 11:14:00             </td><td>-73.98137                       </td><td>40.72473                        </td><td>720                             </td><td>11.5                            </td><td>2.3                             </td></tr>\n",
       "\t<tr><td>A9DC75D59E0EA27E1ED328E8BE8CD828</td><td>2013-01-13 11:24:00             </td><td>-73.96800                       </td><td>40.76000                        </td><td>240                             </td><td> 6.5                            </td><td>0.0                             </td></tr>\n",
       "\t<tr><td>19BF1BB516C4E992EA3FBAEDA73D6262</td><td>2013-01-13 10:51:00             </td><td>-73.98502                       </td><td>40.76341                        </td><td>540                             </td><td> 8.5                            </td><td>1.7                             </td></tr>\n",
       "</tbody>\n",
       "</table>\n"
      ],
      "text/latex": [
       "\\begin{tabular}{r|lllllll}\n",
       " medallion & pickup\\_datetime & pickup\\_longitude & pickup\\_latitude & trip\\_time\\_in\\_secs & fare\\_amount & tip\\_amount\\\\\n",
       "\\hline\n",
       "\t 4D24F4D8EF35878595044A52B098DFD2 & 2013-01-13 10:23:00              & -73.94646                        & 40.77273                         & 600                              &  8.0                             & 2.5                             \\\\\n",
       "\t A49C37EB966E7B05E69523D1CB7BE303 & 2013-01-13 04:52:00              & -73.99827                        & 40.74041                         & 840                              & 18.0                             & 0.0                             \\\\\n",
       "\t 1E4B72A8E623888F53A9693C364AC05A & 2013-01-13 10:47:00              & -73.95346                        & 40.77586                         &  60                              &  3.5                             & 0.7                             \\\\\n",
       "\t F7E4E9439C46B8AD5B16AB9F1B3279D7 & 2013-01-13 11:14:00              & -73.98137                        & 40.72473                         & 720                              & 11.5                             & 2.3                             \\\\\n",
       "\t A9DC75D59E0EA27E1ED328E8BE8CD828 & 2013-01-13 11:24:00              & -73.96800                        & 40.76000                         & 240                              &  6.5                             & 0.0                             \\\\\n",
       "\t 19BF1BB516C4E992EA3FBAEDA73D6262 & 2013-01-13 10:51:00              & -73.98502                        & 40.76341                         & 540                              &  8.5                             & 1.7                             \\\\\n",
       "\\end{tabular}\n"
      ],
      "text/markdown": [
       "\n",
       "| medallion | pickup_datetime | pickup_longitude | pickup_latitude | trip_time_in_secs | fare_amount | tip_amount |\n",
       "|---|---|---|---|---|---|---|\n",
       "| 4D24F4D8EF35878595044A52B098DFD2 | 2013-01-13 10:23:00              | -73.94646                        | 40.77273                         | 600                              |  8.0                             | 2.5                              |\n",
       "| A49C37EB966E7B05E69523D1CB7BE303 | 2013-01-13 04:52:00              | -73.99827                        | 40.74041                         | 840                              | 18.0                             | 0.0                              |\n",
       "| 1E4B72A8E623888F53A9693C364AC05A | 2013-01-13 10:47:00              | -73.95346                        | 40.77586                         |  60                              |  3.5                             | 0.7                              |\n",
       "| F7E4E9439C46B8AD5B16AB9F1B3279D7 | 2013-01-13 11:14:00              | -73.98137                        | 40.72473                         | 720                              | 11.5                             | 2.3                              |\n",
       "| A9DC75D59E0EA27E1ED328E8BE8CD828 | 2013-01-13 11:24:00              | -73.96800                        | 40.76000                         | 240                              |  6.5                             | 0.0                              |\n",
       "| 19BF1BB516C4E992EA3FBAEDA73D6262 | 2013-01-13 10:51:00              | -73.98502                        | 40.76341                         | 540                              |  8.5                             | 1.7                              |\n",
       "\n"
      ],
      "text/plain": [
       "  medallion                        pickup_datetime     pickup_longitude\n",
       "1 4D24F4D8EF35878595044A52B098DFD2 2013-01-13 10:23:00 -73.94646       \n",
       "2 A49C37EB966E7B05E69523D1CB7BE303 2013-01-13 04:52:00 -73.99827       \n",
       "3 1E4B72A8E623888F53A9693C364AC05A 2013-01-13 10:47:00 -73.95346       \n",
       "4 F7E4E9439C46B8AD5B16AB9F1B3279D7 2013-01-13 11:14:00 -73.98137       \n",
       "5 A9DC75D59E0EA27E1ED328E8BE8CD828 2013-01-13 11:24:00 -73.96800       \n",
       "6 19BF1BB516C4E992EA3FBAEDA73D6262 2013-01-13 10:51:00 -73.98502       \n",
       "  pickup_latitude trip_time_in_secs fare_amount tip_amount\n",
       "1 40.77273        600                8.0        2.5       \n",
       "2 40.74041        840               18.0        0.0       \n",
       "3 40.77586         60                3.5        0.7       \n",
       "4 40.72473        720               11.5        2.3       \n",
       "5 40.76000        240                6.5        0.0       \n",
       "6 40.76341        540                8.5        1.7       "
      ]
     },
     "metadata": {},
     "output_type": "display_data"
    }
   ],
   "source": [
    "library(tidyverse)\n",
    "\n",
    "# Reading in the taxi data\n",
    "taxi <- read_csv(\"datasets/taxi.csv\")\n",
    "\n",
    "head(taxi)"
   ]
  },
  {
   "cell_type": "markdown",
   "metadata": {
    "dc": {
     "key": "10"
    },
    "deletable": false,
    "editable": false,
    "run_control": {
     "frozen": true
    },
    "tags": [
     "context"
    ]
   },
   "source": [
    "## 2. Cleaning the taxi data\n",
    "<p>As you can see above, the <code>taxi</code> dataset contains the times and price of a large number of taxi trips. Importantly we also get to know the location, the longitude and latitude, where the trip was started.</p>\n",
    "<p>Cleaning data is a large part of any data scientist's daily work. It may not seem glamorous, but it makes the difference between a successful model and a failure. The <code>taxi</code> dataset needs a bit of polishing before we're ready to use it.</p>"
   ]
  },
  {
   "cell_type": "code",
   "execution_count": 2,
   "metadata": {
    "dc": {
     "key": "10"
    },
    "tags": [
     "sample_code"
    ]
   },
   "outputs": [],
   "source": [
    "# Renaming the location variables,\n",
    "# dropping any journeys with zero fares and zero tips,\n",
    "# and creating the total variable as the log sum of fare and tip\n",
    "taxi <- taxi %>% \n",
    "    rename('lat' = 'pickup_latitude', 'long' = 'pickup_longitude') %>%\n",
    "    filter(fare_amount > 0 | tip_amount > 0) %>%\n",
    "    mutate(total = log(fare_amount + tip_amount))"
   ]
  },
  {
   "cell_type": "markdown",
   "metadata": {
    "dc": {
     "key": "17"
    },
    "deletable": false,
    "editable": false,
    "run_control": {
     "frozen": true
    },
    "tags": [
     "context"
    ]
   },
   "source": [
    "## 3. Zooming in on Manhattan\n",
    "<p>While the dataset contains taxi trips from all over New York City, the bulk of the trips are to and from Manhattan, so let's focus only on trips initiated there.</p>"
   ]
  },
  {
   "cell_type": "code",
   "execution_count": 3,
   "metadata": {
    "dc": {
     "key": "17"
    },
    "tags": [
     "sample_code"
    ]
   },
   "outputs": [],
   "source": [
    "# Reducing the data to taxi trips starting in Manhattan\n",
    "# Manhattan is bounded by the rectangle with \n",
    "# latitude from 40.70 to 40.83 and \n",
    "# longitude from -74.025 to -73.93\n",
    "taxi <- taxi  %>% \n",
    "    filter(between(lat, 40.70, 40.83) & between(long, -74.025, -73.93))"
   ]
  },
  {
   "cell_type": "markdown",
   "metadata": {
    "dc": {
     "key": "24"
    },
    "deletable": false,
    "editable": false,
    "run_control": {
     "frozen": true
    },
    "tags": [
     "context"
    ]
   },
   "source": [
    "## 4. Where does the journey begin?\n",
    "<p>It's time to draw a map! We're going to use the excellent <code>ggmap</code> package together with <code>ggplot2</code> to visualize where in Manhattan people tend to start their taxi journeys.</p>"
   ]
  },
  {
   "cell_type": "code",
   "execution_count": 13,
   "metadata": {
    "dc": {
     "key": "24"
    },
    "tags": [
     "sample_code"
    ]
   },
   "outputs": [
    {
     "name": "stderr",
     "output_type": "stream",
     "text": [
      "Warning message:\n",
      "“file ‘manhattan.RData’ has magic number '\u001f�\b'\n",
      "  Use of save versions prior to 2 is deprecated”"
     ]
    },
    {
     "ename": "ERROR",
     "evalue": "Error in load(\"datasets/manhattan.RData\"): bad restore file magic number (file may be corrupted) -- no data loaded\n",
     "output_type": "error",
     "traceback": [
      "Error in load(\"datasets/manhattan.RData\"): bad restore file magic number (file may be corrupted) -- no data loaded\nTraceback:\n",
      "1. load(\"datasets/manhattan.RData\")"
     ]
    }
   ],
   "source": [
    "library(ggmap)\n",
    "library(viridis)\n",
    "\n",
    "# Retrieving a stored map object which originally was created by\n",
    "# manhattan <- get_map(\"manhattan\", zoom = 12, color = \"bw\")\n",
    "manhattan <- load(\"datasets/manhattan.RData\")\n",
    "\n",
    "# Drawing a density map with the number of journey start locations\n",
    "ggmap(manhattan, darken = 0.5) +\n",
    "   scale_fill_viridis(option = 'plasma') +\n",
    "   # .... YOUR CODE FOR TASK 4 .... \n",
    "    geom_bin2d(data = taxi, aes(x = long, y = lat), bins = 60, alpha = 0.6)"
   ]
  },
  {
   "cell_type": "markdown",
   "metadata": {
    "dc": {
     "key": "31"
    },
    "deletable": false,
    "editable": false,
    "run_control": {
     "frozen": true
    },
    "tags": [
     "context"
    ]
   },
   "source": [
    "## 5. Predicting taxi fares using a tree\n",
    "<p>The map from the previous task showed that the journeys are highly concentrated in the business and tourist areas. We also see that some taxi trips originating in Brooklyn slipped through, but that's fine. </p>\n",
    "<p>We're now going to use a regression tree to predict the <code>total</code> fare with <code>lat</code> and <code>long</code> being the predictors. The <code>tree</code> algorithm will try to find cutpoints in those predictors that results in the decision tree with the best predictive capability.  </p>"
   ]
  },
  {
   "cell_type": "code",
   "execution_count": 50,
   "metadata": {
    "dc": {
     "key": "31"
    },
    "tags": [
     "sample_code"
    ]
   },
   "outputs": [
    {
     "data": {
      "image/png": "[encoded data removed]",
      "text/plain": [
       "plot without title"
      ]
     },
     "metadata": {},
     "output_type": "display_data"
    }
   ],
   "source": [
    "# Loading in the tree package\n",
    "# .... YOUR CODE FOR TASK 5 HERE ....\n",
    "library(tree)\n",
    "# Fitting a tree to lat and long\n",
    "fitted_tree <- tree(total ~ lat + long, data = taxi)\n",
    "\n",
    "# Draw a diagram of the tree structure\n",
    "# .... YOUR CODE FOR TASK 5 HERE ....\n",
    "plot(fitted_tree)\n",
    "text(fitted_tree)"
   ]
  },
  {
   "cell_type": "markdown",
   "metadata": {
    "dc": {
     "key": "38"
    },
    "deletable": false,
    "editable": false,
    "run_control": {
     "frozen": true
    },
    "tags": [
     "context"
    ]
   },
   "source": [
    "## 6. It's time. More predictors.\n",
    "<p>The tree above looks a bit frugal, it only includes one split: It predicts that trips where <code>lat &lt; 40.7237</code> are more expensive, which makes sense as it is downtown Manhattan. But that's it. It didn't even include <code>long</code> as <code>tree</code> deemed that it didn't improve the predictions. Taxi drivers will need more information than this and any driver paying for your data-driven insights would be disappointed with that. As we know from Robert de Niro, it's best not to upset New York taxi drivers.</p>\n",
    "<p>Let's start by adding some more predictors related to the <em>time</em> the taxi trip was made.</p>"
   ]
  },
  {
   "cell_type": "code",
   "execution_count": 52,
   "metadata": {
    "dc": {
     "key": "38"
    },
    "tags": [
     "sample_code"
    ]
   },
   "outputs": [],
   "source": [
    "# Loading in the lubridate package\n",
    "# .... YOUR CODE FOR TASK 6 HERE ....\n",
    "library(lubridate)\n",
    "# Generate the three new time variables\n",
    "taxi <- taxi %>% \n",
    "    mutate(hour = hour(pickup_datetime), wday = wday(pickup_datetime, label = TRUE), month = month(pickup_datetime, label = TRUE))"
   ]
  },
  {
   "cell_type": "markdown",
   "metadata": {
    "dc": {
     "key": "45"
    },
    "deletable": false,
    "editable": false,
    "run_control": {
     "frozen": true
    },
    "tags": [
     "context"
    ]
   },
   "source": [
    "## 7. One more tree!\n",
    "<p>Let's try fitting a new regression tree where we include the new time variables.</p>"
   ]
  },
  {
   "cell_type": "code",
   "execution_count": null,
   "metadata": {
    "dc": {
     "key": "45"
    },
    "tags": [
     "sample_code"
    ]
   },
   "outputs": [],
   "source": [
    "# Fitting a tree with total as the outcome and \n",
    "# lat, long, hour, wday, and month as predictors\n",
    "fitted_tree <- tree(total ~ lat + long + hour + wday + month, data = taxi)\n",
    "\n",
    "# draw a diagram of the tree structure\n",
    "# .... YOUR CODE FOR TASK 7 HERE ....\n",
    "plot(fitted_tree)\n",
    "text(fitted_tree)\n",
    "\n",
    "# Summarizing the performance of the tree\n",
    "# .... YOUR CODE FOR TASK 7 HERE ....\n",
    "summary(fitted_tree)"
   ]
  },
  {
   "cell_type": "markdown",
   "metadata": {
    "dc": {
     "key": "52"
    },
    "deletable": false,
    "editable": false,
    "run_control": {
     "frozen": true
    },
    "tags": [
     "context"
    ]
   },
   "source": [
    "## 8. One tree is not enough\n",
    "<p>The regression tree has not changed after including the three time variables. This is likely because latitude is still the most promising first variable to split the data on, and after that split, the other variables are not informative enough to be included. A random forest model, where many different trees are fitted to subsets of the data, may well include the other variables in some of the trees that make it up. </p>"
   ]
  },
  {
   "cell_type": "code",
   "execution_count": null,
   "metadata": {
    "dc": {
     "key": "52"
    },
    "tags": [
     "sample_code"
    ]
   },
   "outputs": [],
   "source": [
    "# Loading in the randomForest package\n",
    "# .... YOUR CODE FOR TASK 8 HERE ....\n",
    "library(randomForest)\n",
    "\n",
    "# Fitting a random forest\n",
    "fitted_forest <- randomForest(total ~ lat + long + hour + wday + month, data = taxi, ntree = 80, sampsize = 10000)\n",
    "\n",
    "# Printing the fitted_forest object\n",
    "# .... YOUR CODE FOR TASK 8 HERE ....\n",
    "print(fitted_forest)"
   ]
  },
  {
   "cell_type": "markdown",
   "metadata": {
    "dc": {
     "key": "59"
    },
    "deletable": false,
    "editable": false,
    "run_control": {
     "frozen": true
    },
    "tags": [
     "context"
    ]
   },
   "source": [
    "## 9. Plotting the predicted fare\n",
    "<p>In the output of <code>fitted_forest</code> you should see the <code>Mean of squared residuals</code>, that is, the average of the squared errors the model makes. If you scroll up and check the <code>summary</code> of <code>fitted_tree</code> you'll find <code>Residual mean deviance</code> which is the same number. If you compare these numbers, you'll see that <code>fitted_forest</code> has a slightly lower error. Neither predictive model is <em>that</em> good, in statistical terms, they explain only about 3% of the variance. </p>\n",
    "<p>Now, let's take a look at the predictions of <code>fitted_forest</code> projected back onto Manhattan.</p>"
   ]
  },
  {
   "cell_type": "code",
   "execution_count": null,
   "metadata": {
    "dc": {
     "key": "59"
    },
    "tags": [
     "sample_code"
    ]
   },
   "outputs": [],
   "source": [
    "# Extracting the prediction from fitted_forest\n",
    "taxi$pred_total <- fitted_forest$predicted\n",
    "\n",
    "# Plotting the predicted mean trip prices from according to the random forest\n",
    "# .... COPY CODE FROM TASK 4 AND MODIFY HERE ....\n",
    "ggmap(manhattan, darken = 0.5) +\n",
    "   scale_fill_viridis(option = 'plasma') +\n",
    "   # .... YOUR CODE FOR TASK 4 .... \n",
    "    stat_summary_2d(data = taxi, aes(x = long, y = lat, z = pred_total), fun = mean, bins = 60, alpha = 0.6)"
   ]
  },
  {
   "cell_type": "markdown",
   "metadata": {
    "dc": {
     "key": "66"
    },
    "deletable": false,
    "editable": false,
    "run_control": {
     "frozen": true
    },
    "tags": [
     "context"
    ]
   },
   "source": [
    "## 10. Plotting the actual fare\n",
    "<p>Looking at the map with the predicted fares we see that fares in downtown Manhattan are predicted to be high, while midtown is lower. This map only shows the prediction as a function of <code>lat</code> and <code>long</code>, but we could also plot the predictions over time, or a combination of time and space, but we'll leave that for another time.</p>\n",
    "<p>For now, let's compare the map with the predicted fares with a new map showing the mean fares according to the data.</p>"
   ]
  },
  {
   "cell_type": "code",
   "execution_count": null,
   "metadata": {
    "dc": {
     "key": "66"
    },
    "tags": [
     "sample_code"
    ]
   },
   "outputs": [],
   "source": [
    "# Function that returns the mean *if* there are 15 or more datapoints\n",
    "mean_if_enough_data <- function(x) { \n",
    "    ifelse( length(x) >= 15, mean(x), NA) \n",
    "}\n",
    "\n",
    "# Plotting the mean trip prices from the data\n",
    "# .... COPY CODE FROM TASK 9 AND MODIFY HERE ....\n",
    "ggmap(manhattan, darken = 0.5) +\n",
    "   scale_fill_viridis(option = 'plasma') +\n",
    "   # .... YOUR CODE FOR TASK 4 .... \n",
    "    stat_summary_2d(data = taxi, aes(x = long, y = lat, z = total), fun = mean_if_enough_data, bins = 60, alpha = 0.6)"
   ]
  },
  {
   "cell_type": "markdown",
   "metadata": {
    "dc": {
     "key": "73"
    },
    "deletable": false,
    "editable": false,
    "run_control": {
     "frozen": true
    },
    "tags": [
     "context"
    ]
   },
   "source": [
    "## 11. Where  do people spend the most?\n",
    "<p>So it looks like the random forest model captured some of the patterns in our data. At this point in the analysis, there are many more things we could do that we haven't done. We could add more predictors if we have the data. We could try to fine-tune the parameters of <code>randomForest</code>. And we should definitely test the model on a hold-out test dataset. But for now, let's be happy with what we have achieved!</p>\n",
    "<p>So, if you are a taxi driver in NYC, where in Manhattan would you expect people to spend the most on a taxi ride?</p>"
   ]
  },
  {
   "cell_type": "code",
   "execution_count": null,
   "metadata": {
    "collapsed": true,
    "dc": {
     "key": "73"
    },
    "tags": [
     "sample_code"
    ]
   },
   "outputs": [],
   "source": [
    "# Where are people spending the most on their taxi trips?\n",
    "spends_most_on_trips <- \"downtown\" # \"uptown\" or \"downtown\""
   ]
  }
 ],
 "metadata": {
  "kernelspec": {
   "display_name": "R",
   "language": "R",
   "name": "ir"
  },
  "language_info": {
   "codemirror_mode": "r",
   "file_extension": ".r",
   "mimetype": "text/x-r-source",
   "name": "R",
   "pygments_lexer": "r",
   "version": "3.6.1"
  }
 },
 "nbformat": 4,
 "nbformat_minor": 2
}
